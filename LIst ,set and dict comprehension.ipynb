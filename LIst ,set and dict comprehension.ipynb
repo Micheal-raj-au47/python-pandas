{
 "cells": [
  {
   "cell_type": "code",
   "execution_count": 1,
   "id": "a3c93d18",
   "metadata": {},
   "outputs": [
    {
     "name": "stdout",
     "output_type": "stream",
     "text": [
      "[2, 4, 8, 16, 32]\n"
     ]
    }
   ],
   "source": [
    "numbers = []\n",
    "\n",
    "for i in range(1, 6):\n",
    "    numbers.append(2**i)\n",
    "\n",
    "print(numbers)"
   ]
  },
  {
   "cell_type": "code",
   "execution_count": 2,
   "id": "064adeb9",
   "metadata": {},
   "outputs": [
    {
     "name": "stdout",
     "output_type": "stream",
     "text": [
      "[2, 4, 8, 16, 32]\n"
     ]
    }
   ],
   "source": [
    "numbers = [2**i for i in range(1, 6)]\n",
    "\n",
    "print(numbers)"
   ]
  },
  {
   "cell_type": "markdown",
   "id": "44651cc5",
   "metadata": {},
   "source": [
    "###Conditionals in List Comprehension"
   ]
  },
  {
   "cell_type": "code",
   "execution_count": 3,
   "id": "60149191",
   "metadata": {},
   "outputs": [],
   "source": [
    "import math\n",
    "numbers = [49, 64, 81, 100, 121]\n",
    "\n",
    "new_list = [math.sqrt(n) for n in numbers]"
   ]
  },
  {
   "cell_type": "code",
   "execution_count": 6,
   "id": "b376f7bb",
   "metadata": {},
   "outputs": [
    {
     "data": {
      "text/plain": [
       "[7.0, 8.0, 9.0, 10.0, 11.0]"
      ]
     },
     "execution_count": 6,
     "metadata": {},
     "output_type": "execute_result"
    }
   ],
   "source": [
    "new_list"
   ]
  },
  {
   "cell_type": "code",
   "execution_count": 7,
   "id": "e00d8e6c",
   "metadata": {},
   "outputs": [
    {
     "name": "stdout",
     "output_type": "stream",
     "text": [
      "[8.0, 10.0]\n"
     ]
    }
   ],
   "source": [
    "import math\n",
    "numbers = [49, 64, 81, 100, 121] \n",
    "\n",
    "new_list = [math.sqrt(n) for n in numbers if n % 2 == 0]\n",
    "print(new_list)"
   ]
  },
  {
   "cell_type": "markdown",
   "id": "2408f445",
   "metadata": {},
   "source": [
    "####Multiple Loops in List Comprehension"
   ]
  },
  {
   "cell_type": "code",
   "execution_count": 8,
   "id": "3a240b8e",
   "metadata": {},
   "outputs": [
    {
     "name": "stdout",
     "output_type": "stream",
     "text": [
      "[('Janet', 'Evan'), ('Janet', 'Jake'), ('Janet', 'Randy'), ('Arya', 'Evan'), ('Arya', 'Jake'), ('Arya', 'Randy'), ('Mary', 'Evan'), ('Mary', 'Jake'), ('Mary', 'Randy')]\n"
     ]
    }
   ],
   "source": [
    "team1 = ['Janet', 'Arya', 'Mary']\n",
    "team2 = ['Evan', 'Jake', 'Randy']\n",
    "\n",
    "new_list = [(x,y) for x in team1 for y in team2]\n",
    "print(new_list)"
   ]
  },
  {
   "cell_type": "markdown",
   "id": "fbdbf46d",
   "metadata": {},
   "source": [
    "### Nested loops 2d list"
   ]
  },
  {
   "cell_type": "code",
   "execution_count": 11,
   "id": "1d1a80c8",
   "metadata": {},
   "outputs": [
    {
     "name": "stdout",
     "output_type": "stream",
     "text": [
      "['value', 'value', 'value', 'value', 'value', 'value', 'value', 'value', 'value']\n"
     ]
    }
   ],
   "source": [
    "matrix = [[1, 2, 3], [4, 5], [6, 7, 8, 9]]\n",
    "flatten_matrix = []\n",
    "for sublist in matrix:\n",
    "    for value in sublist:\n",
    "        flatten_matrix.append(\"value\")\n",
    "print(flatten_matrix)       "
   ]
  },
  {
   "cell_type": "code",
   "execution_count": 13,
   "id": "fa3be8a8",
   "metadata": {},
   "outputs": [
    {
     "name": "stdout",
     "output_type": "stream",
     "text": [
      "['value', 'value', 'value', 'value', 'value', 'value', 'value', 'value', 'value']\n"
     ]
    }
   ],
   "source": [
    "flatten_matrix = [\"value\" for sublist in matrix for value in sublist ]\n",
    "print(flatten_matrix)"
   ]
  },
  {
   "cell_type": "code",
   "execution_count": 10,
   "id": "bf3e2612",
   "metadata": {},
   "outputs": [
    {
     "name": "stdout",
     "output_type": "stream",
     "text": [
      "[[0, 1, 2, 3, 4], [0, 1, 2, 3, 4], [0, 1, 2, 3, 4], [0, 1, 2, 3, 4], [0, 1, 2, 3, 4]]\n"
     ]
    }
   ],
   "source": [
    "matrix = []\n",
    "  \n",
    "for i in range(5):\n",
    "      \n",
    "    # Append an empty sublist inside the list\n",
    "    matrix.append([])\n",
    "      \n",
    "    for j in range(5):\n",
    "        matrix[i].append(j)\n",
    "          \n",
    "print(matrix)"
   ]
  },
  {
   "cell_type": "code",
   "execution_count": 17,
   "id": "d9fe7dee",
   "metadata": {},
   "outputs": [
    {
     "name": "stdout",
     "output_type": "stream",
     "text": [
      "[[0, 1, 2, 3, 4], [0, 1, 2, 3, 4], [0, 1, 2, 3, 4], [0, 1, 2, 3, 4], [0, 1, 2, 3, 4]]\n"
     ]
    }
   ],
   "source": [
    "matrix = [[j for j in range(5)] for i in range(5)]\n",
    "  \n",
    "print(matrix)"
   ]
  },
  {
   "cell_type": "markdown",
   "id": "2a75541a",
   "metadata": {},
   "source": [
    "# SET COMPREHENSION"
   ]
  },
  {
   "cell_type": "code",
   "execution_count": 27,
   "id": "850fc6be",
   "metadata": {},
   "outputs": [
    {
     "name": "stdout",
     "output_type": "stream",
     "text": [
      "{'p', 'i', 'm', 'a', 'r', 'n', 'g', 'o'}\n"
     ]
    }
   ],
   "source": [
    "word = \"programming\"\n",
    "alphabets = {x for x in word}\n",
    "\n",
    "print(alphabets)"
   ]
  },
  {
   "cell_type": "markdown",
   "id": "ec51c839",
   "metadata": {},
   "source": [
    "# DICT COMPREHENSION"
   ]
  },
  {
   "cell_type": "code",
   "execution_count": 32,
   "id": "be4daf31",
   "metadata": {},
   "outputs": [],
   "source": [
    "numbers = [1, 2, 3, 4, 5]\n"
   ]
  },
  {
   "cell_type": "code",
   "execution_count": 33,
   "id": "1a5bcc62",
   "metadata": {},
   "outputs": [
    {
     "name": "stdout",
     "output_type": "stream",
     "text": [
      "{1: 1, 2: 4, 3: 9, 4: 16, 5: 25}\n"
     ]
    }
   ],
   "source": [
    "square_dict = dict()\n",
    "for num in numbers:\n",
    "    square_dict[num] = num**2\n",
    "print(square_dict)"
   ]
  },
  {
   "cell_type": "code",
   "execution_count": 34,
   "id": "92ff0b65",
   "metadata": {},
   "outputs": [
    {
     "name": "stdout",
     "output_type": "stream",
     "text": [
      "{1: 1, 2: 4, 3: 9, 4: 16, 5: 25}\n"
     ]
    }
   ],
   "source": [
    "square_dict = {num:num**2 for num in numbers}\n",
    "print(square_dict)"
   ]
  },
  {
   "cell_type": "code",
   "execution_count": 35,
   "id": "5b321352",
   "metadata": {},
   "outputs": [
    {
     "name": "stdout",
     "output_type": "stream",
     "text": [
      "{'milk': 1.02, 'coffee': 3.4499999999999997, 'bread': 3.75}\n"
     ]
    }
   ],
   "source": [
    "old_price = {'milk': 1.02, 'coffee': 2.3, 'bread': 2.5}\n",
    "\n",
    "new_price = dict()\n",
    "for key, value in old_price.items():\n",
    "    if value > 2:\n",
    "        new_price[key] = value * 1.5\n",
    "    else:\n",
    "        new_price[key] = value\n",
    "\n",
    "print(new_price)"
   ]
  },
  {
   "cell_type": "code",
   "execution_count": 36,
   "id": "67cb2428",
   "metadata": {},
   "outputs": [
    {
     "name": "stdout",
     "output_type": "stream",
     "text": [
      "{'milk': 1.02, 'coffee': 3.4499999999999997, 'bread': 3.75}\n"
     ]
    }
   ],
   "source": [
    "old_price = {'milk': 1.02, 'coffee': 2.3, 'bread': 2.5}\n",
    "\n",
    "new_price = {key: value*1.5 if value>2 else value for (key, value) in old_price.items()}\n",
    "print(new_price)"
   ]
  },
  {
   "cell_type": "code",
   "execution_count": null,
   "id": "9e70c13d",
   "metadata": {},
   "outputs": [],
   "source": []
  }
 ],
 "metadata": {
  "kernelspec": {
   "display_name": "Python 3 (ipykernel)",
   "language": "python",
   "name": "python3"
  },
  "language_info": {
   "codemirror_mode": {
    "name": "ipython",
    "version": 3
   },
   "file_extension": ".py",
   "mimetype": "text/x-python",
   "name": "python",
   "nbconvert_exporter": "python",
   "pygments_lexer": "ipython3",
   "version": "3.9.12"
  }
 },
 "nbformat": 4,
 "nbformat_minor": 5
}
