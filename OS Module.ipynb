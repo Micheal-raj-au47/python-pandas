{
 "cells": [
  {
   "cell_type": "code",
   "execution_count": 1,
   "id": "cc6ebfce",
   "metadata": {},
   "outputs": [],
   "source": [
    "import os"
   ]
  },
  {
   "cell_type": "code",
   "execution_count": 2,
   "id": "6e9c439e",
   "metadata": {},
   "outputs": [
    {
     "data": {
      "text/plain": [
       "'C:\\\\Users\\\\fmichera'"
      ]
     },
     "execution_count": 2,
     "metadata": {},
     "output_type": "execute_result"
    }
   ],
   "source": [
    "##to find where r u working now\n",
    "os.getcwd()###cwd- current working directory"
   ]
  },
  {
   "cell_type": "code",
   "execution_count": 5,
   "id": "a6013afe",
   "metadata": {},
   "outputs": [
    {
     "data": {
      "text/plain": [
       "['.anaconda',\n",
       " '.android',\n",
       " '.cache',\n",
       " '.cisco',\n",
       " '.conda',\n",
       " '.condarc',\n",
       " '.config',\n",
       " '.continuum',\n",
       " '.eclipse',\n",
       " '.Epubor_Keys',\n",
       " '.idea',\n",
       " '.idlerc',\n",
       " '.ipynb_checkpoints',\n",
       " '.ipython',\n",
       " '.jupyter',\n",
       " '.kindle',\n",
       " '.m2',\n",
       " '.matplotlib',\n",
       " '.midway',\n",
       " '.ms-ad',\n",
       " '.p2',\n",
       " '.sqlworkbench',\n",
       " '.ssh',\n",
       " '.vscode',\n",
       " '.wdm',\n",
       " '3D Objects',\n",
       " 'Anaconda3',\n",
       " 'AppData',\n",
       " 'Application Data',\n",
       " 'backup.ab',\n",
       " 'Calibre Library',\n",
       " 'Contacts',\n",
       " 'Cookies',\n",
       " 'dcv_session',\n",
       " 'Desktop',\n",
       " 'Documents',\n",
       " 'Downloads',\n",
       " 'DSA - DP(Dynamic Programing).ipynb',\n",
       " 'eclipse',\n",
       " 'eclipse-workspace',\n",
       " 'EpuborLog',\n",
       " 'Favorite',\n",
       " 'Favorites',\n",
       " 'geckodriver.log',\n",
       " 'IntelGraphicsProfiles',\n",
       " 'Links',\n",
       " 'Local Settings',\n",
       " 'Music',\n",
       " 'My Documents',\n",
       " 'NetHood',\n",
       " 'NTUSER.DAT',\n",
       " 'ntuser.dat.LOG1',\n",
       " 'ntuser.dat.LOG2',\n",
       " 'NTUSER.DAT{53b39e88-18c4-11ea-a811-000d3aa4692b}.TM.blf',\n",
       " 'NTUSER.DAT{53b39e88-18c4-11ea-a811-000d3aa4692b}.TMContainer00000000000000000001.regtrans-ms',\n",
       " 'NTUSER.DAT{53b39e88-18c4-11ea-a811-000d3aa4692b}.TMContainer00000000000000000002.regtrans-ms',\n",
       " 'ntuser.ini',\n",
       " 'OneDrive',\n",
       " 'OS Module.ipynb',\n",
       " 'Pictures',\n",
       " 'practise.ipynb',\n",
       " 'PrintHood',\n",
       " 'PycharmProjects',\n",
       " 'Recent',\n",
       " 'Saved Games',\n",
       " 'seaborn-data',\n",
       " 'Searches',\n",
       " 'SendTo',\n",
       " 'Start Menu',\n",
       " 'Task 1.ipynb',\n",
       " 'Templates',\n",
       " 'Ultimate',\n",
       " 'Untitled Folder',\n",
       " 'Untitled.ipynb',\n",
       " 'Untitled1.ipynb',\n",
       " 'Untitled2.ipynb',\n",
       " 'Videos']"
      ]
     },
     "execution_count": 5,
     "metadata": {},
     "output_type": "execute_result"
    }
   ],
   "source": [
    "os.listdir()##incase if you want to change your working directory"
   ]
  },
  {
   "cell_type": "code",
   "execution_count": 4,
   "id": "4950773c",
   "metadata": {},
   "outputs": [],
   "source": [
    "##how do you change your cwd"
   ]
  },
  {
   "cell_type": "code",
   "execution_count": 14,
   "id": "def07bee",
   "metadata": {},
   "outputs": [],
   "source": [
    "os.chdir(r\"C:\\Users\\fmichera\\Documents\\pandas\")"
   ]
  },
  {
   "cell_type": "code",
   "execution_count": 15,
   "id": "c4d40e58",
   "metadata": {},
   "outputs": [
    {
     "data": {
      "text/plain": [
       "'C:\\\\Users\\\\fmichera\\\\Documents\\\\pandas'"
      ]
     },
     "execution_count": 15,
     "metadata": {},
     "output_type": "execute_result"
    }
   ],
   "source": [
    "os.getcwd()"
   ]
  },
  {
   "cell_type": "code",
   "execution_count": 16,
   "id": "36f21794",
   "metadata": {},
   "outputs": [],
   "source": [
    "##list directories and files"
   ]
  },
  {
   "cell_type": "code",
   "execution_count": 17,
   "id": "80563364",
   "metadata": {},
   "outputs": [
    {
     "name": "stdout",
     "output_type": "stream",
     "text": [
      "['.ipynb_checkpoints', 'pandas', 'rollback.xlsx', 'Untitled.ipynb', '__MACOSX']\n"
     ]
    }
   ],
   "source": [
    "print(os.listdir())"
   ]
  },
  {
   "cell_type": "code",
   "execution_count": 18,
   "id": "ba1f074f",
   "metadata": {},
   "outputs": [],
   "source": [
    "##how do u walk on the mainfolder,directory and files"
   ]
  },
  {
   "cell_type": "code",
   "execution_count": 19,
   "id": "f73c0973",
   "metadata": {},
   "outputs": [
    {
     "name": "stdout",
     "output_type": "stream",
     "text": [
      "C:\\Users\\fmichera\\Documents\\pandas\n",
      "C:\\Users\\fmichera\\Documents\\pandas\\.ipynb_checkpoints\n",
      "C:\\Users\\fmichera\\Documents\\pandas\\pandas\n",
      "C:\\Users\\fmichera\\Documents\\pandas\\pandas\\.ipynb_checkpoints\n",
      "C:\\Users\\fmichera\\Documents\\pandas\\__MACOSX\n",
      "C:\\Users\\fmichera\\Documents\\pandas\\__MACOSX\\pandas\n"
     ]
    }
   ],
   "source": [
    "for root,directory,file in os.walk(os.getcwd()):\n",
    "    print(root)"
   ]
  },
  {
   "cell_type": "code",
   "execution_count": 20,
   "id": "e8a8082f",
   "metadata": {},
   "outputs": [
    {
     "name": "stdout",
     "output_type": "stream",
     "text": [
      "['.ipynb_checkpoints', 'pandas', '__MACOSX']\n",
      "[]\n",
      "['.ipynb_checkpoints']\n",
      "[]\n",
      "['pandas']\n",
      "[]\n"
     ]
    }
   ],
   "source": [
    "for root,directory,file in os.walk(os.getcwd()):\n",
    "    print(directory)"
   ]
  },
  {
   "cell_type": "code",
   "execution_count": 21,
   "id": "3527b05d",
   "metadata": {
    "collapsed": true
   },
   "outputs": [
    {
     "name": "stdout",
     "output_type": "stream",
     "text": [
      "['rollback.xlsx', 'Untitled.ipynb']\n",
      "['Untitled-checkpoint.ipynb']\n",
      "['bigmac.csv', 'chicago.csv', 'Data - Multiple Worksheets.xlsx', 'Data - Single Worksheet.xlsx', 'DataFrames2.ipynb', 'DataFrames3-Copy1.ipynb', 'DataFrames3.ipynb', 'ecommerce.csv', 'employees.csv', 'foods.csv', 'fortune1000.csv', 'google_stock_price.csv', 'GroupBY.ipynb', 'image.jpg', 'image.png', 'jamesbond.csv', 'Matplotlib.ipynb', 'nba.csv', 'pandas framework.ipynb', 'pokemon.csv', 'quarters.csv', 'Restaurant - Customers.csv', 'Restaurant - Foods.csv', 'Restaurant - Week 1 Sales.csv', 'Restaurant - Week 1 Satisfaction.csv', 'Restaurant - Week 2 Sales.csv', 'revenue.csv', 'salesmen.csv', 'Untitled.ipynb', 'Untitled1.ipynb', 'Working with text Data.ipynb', 'worldstats.csv']\n",
      "['DataFrames2-checkpoint.ipynb', 'DataFrames3-checkpoint.ipynb', 'DataFrames3-Copy1-checkpoint.ipynb', 'GroupBY-checkpoint.ipynb', 'Matplotlib-checkpoint.ipynb', 'pandas framework-checkpoint.ipynb', 'Untitled-checkpoint.ipynb', 'Untitled1-checkpoint.ipynb', 'Working with text Data-checkpoint.ipynb']\n",
      "['._pandas']\n",
      "['._bigmac.csv', '._chicago.csv', '._Data - Multiple Worksheets.xlsx', '._Data - Single Worksheet.xlsx', '._ecommerce.csv', '._employees.csv', '._foods.csv', '._fortune1000.csv', '._google_stock_price.csv', '._jamesbond.csv', '._nba.csv', '._pokemon.csv', '._quarters.csv', '._Restaurant - Customers.csv', '._Restaurant - Foods.csv', '._Restaurant - Week 1 Sales.csv', '._Restaurant - Week 1 Satisfaction.csv', '._Restaurant - Week 2 Sales.csv', '._revenue.csv', '._salesmen.csv', '._worldstats.csv']\n"
     ]
    }
   ],
   "source": [
    "for root,directory,file in os.walk(os.getcwd()):\n",
    "    print(file)"
   ]
  },
  {
   "cell_type": "code",
   "execution_count": 23,
   "id": "1e8e1c78",
   "metadata": {
    "collapsed": true
   },
   "outputs": [
    {
     "name": "stdout",
     "output_type": "stream",
     "text": [
      "bigmac.csv\n",
      "chicago.csv\n",
      "ecommerce.csv\n",
      "employees.csv\n",
      "foods.csv\n",
      "fortune1000.csv\n",
      "google_stock_price.csv\n",
      "jamesbond.csv\n",
      "nba.csv\n",
      "pokemon.csv\n",
      "quarters.csv\n",
      "Restaurant - Customers.csv\n",
      "Restaurant - Foods.csv\n",
      "Restaurant - Week 1 Sales.csv\n",
      "Restaurant - Week 1 Satisfaction.csv\n",
      "Restaurant - Week 2 Sales.csv\n",
      "revenue.csv\n",
      "salesmen.csv\n",
      "worldstats.csv\n",
      "._bigmac.csv\n",
      "._chicago.csv\n",
      "._ecommerce.csv\n",
      "._employees.csv\n",
      "._foods.csv\n",
      "._fortune1000.csv\n",
      "._google_stock_price.csv\n",
      "._jamesbond.csv\n",
      "._nba.csv\n",
      "._pokemon.csv\n",
      "._quarters.csv\n",
      "._Restaurant - Customers.csv\n",
      "._Restaurant - Foods.csv\n",
      "._Restaurant - Week 1 Sales.csv\n",
      "._Restaurant - Week 1 Satisfaction.csv\n",
      "._Restaurant - Week 2 Sales.csv\n",
      "._revenue.csv\n",
      "._salesmen.csv\n",
      "._worldstats.csv\n"
     ]
    }
   ],
   "source": [
    "for root,directory,file in os.walk(os.getcwd()):\n",
    "    for f in file:\n",
    "        if \".csv\" in f:\n",
    "            print(f)"
   ]
  },
  {
   "cell_type": "code",
   "execution_count": 29,
   "id": "81f0059a",
   "metadata": {
    "collapsed": true
   },
   "outputs": [
    {
     "name": "stdout",
     "output_type": "stream",
     "text": [
      "foods.csv\n",
      "fortune1000.csv\n",
      "Restaurant - Customers.csv\n",
      "Restaurant - Foods.csv\n",
      "Restaurant - Week 1 Sales.csv\n",
      "Restaurant - Week 1 Satisfaction.csv\n",
      "Restaurant - Week 2 Sales.csv\n"
     ]
    }
   ],
   "source": [
    "for root,directory,file in os.walk(os.getcwd()):\n",
    "    for f in file:\n",
    "        if f[0]==\"R\" or f[0]==\"f\":\n",
    "            print(f)"
   ]
  },
  {
   "cell_type": "code",
   "execution_count": 30,
   "id": "847c8231",
   "metadata": {},
   "outputs": [],
   "source": [
    "###how can i get the all available file path in root folder"
   ]
  },
  {
   "cell_type": "code",
   "execution_count": 31,
   "id": "f2be5665",
   "metadata": {
    "scrolled": true
   },
   "outputs": [
    {
     "name": "stdout",
     "output_type": "stream",
     "text": [
      "C:\\Users\\fmichera\\Documents\\pandas\\rollback.xlsx\n",
      "C:\\Users\\fmichera\\Documents\\pandas\\Untitled.ipynb\n",
      "C:\\Users\\fmichera\\Documents\\pandas\\.ipynb_checkpoints\\Untitled-checkpoint.ipynb\n",
      "C:\\Users\\fmichera\\Documents\\pandas\\pandas\\bigmac.csv\n",
      "C:\\Users\\fmichera\\Documents\\pandas\\pandas\\chicago.csv\n",
      "C:\\Users\\fmichera\\Documents\\pandas\\pandas\\Data - Multiple Worksheets.xlsx\n",
      "C:\\Users\\fmichera\\Documents\\pandas\\pandas\\Data - Single Worksheet.xlsx\n",
      "C:\\Users\\fmichera\\Documents\\pandas\\pandas\\DataFrames2.ipynb\n",
      "C:\\Users\\fmichera\\Documents\\pandas\\pandas\\DataFrames3-Copy1.ipynb\n",
      "C:\\Users\\fmichera\\Documents\\pandas\\pandas\\DataFrames3.ipynb\n",
      "C:\\Users\\fmichera\\Documents\\pandas\\pandas\\ecommerce.csv\n",
      "C:\\Users\\fmichera\\Documents\\pandas\\pandas\\employees.csv\n",
      "C:\\Users\\fmichera\\Documents\\pandas\\pandas\\foods.csv\n",
      "C:\\Users\\fmichera\\Documents\\pandas\\pandas\\fortune1000.csv\n",
      "C:\\Users\\fmichera\\Documents\\pandas\\pandas\\google_stock_price.csv\n",
      "C:\\Users\\fmichera\\Documents\\pandas\\pandas\\GroupBY.ipynb\n",
      "C:\\Users\\fmichera\\Documents\\pandas\\pandas\\image.jpg\n",
      "C:\\Users\\fmichera\\Documents\\pandas\\pandas\\image.png\n",
      "C:\\Users\\fmichera\\Documents\\pandas\\pandas\\jamesbond.csv\n",
      "C:\\Users\\fmichera\\Documents\\pandas\\pandas\\Matplotlib.ipynb\n",
      "C:\\Users\\fmichera\\Documents\\pandas\\pandas\\nba.csv\n",
      "C:\\Users\\fmichera\\Documents\\pandas\\pandas\\pandas framework.ipynb\n",
      "C:\\Users\\fmichera\\Documents\\pandas\\pandas\\pokemon.csv\n",
      "C:\\Users\\fmichera\\Documents\\pandas\\pandas\\quarters.csv\n",
      "C:\\Users\\fmichera\\Documents\\pandas\\pandas\\Restaurant - Customers.csv\n",
      "C:\\Users\\fmichera\\Documents\\pandas\\pandas\\Restaurant - Foods.csv\n",
      "C:\\Users\\fmichera\\Documents\\pandas\\pandas\\Restaurant - Week 1 Sales.csv\n",
      "C:\\Users\\fmichera\\Documents\\pandas\\pandas\\Restaurant - Week 1 Satisfaction.csv\n",
      "C:\\Users\\fmichera\\Documents\\pandas\\pandas\\Restaurant - Week 2 Sales.csv\n",
      "C:\\Users\\fmichera\\Documents\\pandas\\pandas\\revenue.csv\n",
      "C:\\Users\\fmichera\\Documents\\pandas\\pandas\\salesmen.csv\n",
      "C:\\Users\\fmichera\\Documents\\pandas\\pandas\\Untitled.ipynb\n",
      "C:\\Users\\fmichera\\Documents\\pandas\\pandas\\Untitled1.ipynb\n",
      "C:\\Users\\fmichera\\Documents\\pandas\\pandas\\Working with text Data.ipynb\n",
      "C:\\Users\\fmichera\\Documents\\pandas\\pandas\\worldstats.csv\n",
      "C:\\Users\\fmichera\\Documents\\pandas\\pandas\\.ipynb_checkpoints\\DataFrames2-checkpoint.ipynb\n",
      "C:\\Users\\fmichera\\Documents\\pandas\\pandas\\.ipynb_checkpoints\\DataFrames3-checkpoint.ipynb\n",
      "C:\\Users\\fmichera\\Documents\\pandas\\pandas\\.ipynb_checkpoints\\DataFrames3-Copy1-checkpoint.ipynb\n",
      "C:\\Users\\fmichera\\Documents\\pandas\\pandas\\.ipynb_checkpoints\\GroupBY-checkpoint.ipynb\n",
      "C:\\Users\\fmichera\\Documents\\pandas\\pandas\\.ipynb_checkpoints\\Matplotlib-checkpoint.ipynb\n",
      "C:\\Users\\fmichera\\Documents\\pandas\\pandas\\.ipynb_checkpoints\\pandas framework-checkpoint.ipynb\n",
      "C:\\Users\\fmichera\\Documents\\pandas\\pandas\\.ipynb_checkpoints\\Untitled-checkpoint.ipynb\n",
      "C:\\Users\\fmichera\\Documents\\pandas\\pandas\\.ipynb_checkpoints\\Untitled1-checkpoint.ipynb\n",
      "C:\\Users\\fmichera\\Documents\\pandas\\pandas\\.ipynb_checkpoints\\Working with text Data-checkpoint.ipynb\n",
      "C:\\Users\\fmichera\\Documents\\pandas\\__MACOSX\\._pandas\n",
      "C:\\Users\\fmichera\\Documents\\pandas\\__MACOSX\\pandas\\._bigmac.csv\n",
      "C:\\Users\\fmichera\\Documents\\pandas\\__MACOSX\\pandas\\._chicago.csv\n",
      "C:\\Users\\fmichera\\Documents\\pandas\\__MACOSX\\pandas\\._Data - Multiple Worksheets.xlsx\n",
      "C:\\Users\\fmichera\\Documents\\pandas\\__MACOSX\\pandas\\._Data - Single Worksheet.xlsx\n",
      "C:\\Users\\fmichera\\Documents\\pandas\\__MACOSX\\pandas\\._ecommerce.csv\n",
      "C:\\Users\\fmichera\\Documents\\pandas\\__MACOSX\\pandas\\._employees.csv\n",
      "C:\\Users\\fmichera\\Documents\\pandas\\__MACOSX\\pandas\\._foods.csv\n",
      "C:\\Users\\fmichera\\Documents\\pandas\\__MACOSX\\pandas\\._fortune1000.csv\n",
      "C:\\Users\\fmichera\\Documents\\pandas\\__MACOSX\\pandas\\._google_stock_price.csv\n",
      "C:\\Users\\fmichera\\Documents\\pandas\\__MACOSX\\pandas\\._jamesbond.csv\n",
      "C:\\Users\\fmichera\\Documents\\pandas\\__MACOSX\\pandas\\._nba.csv\n",
      "C:\\Users\\fmichera\\Documents\\pandas\\__MACOSX\\pandas\\._pokemon.csv\n",
      "C:\\Users\\fmichera\\Documents\\pandas\\__MACOSX\\pandas\\._quarters.csv\n",
      "C:\\Users\\fmichera\\Documents\\pandas\\__MACOSX\\pandas\\._Restaurant - Customers.csv\n",
      "C:\\Users\\fmichera\\Documents\\pandas\\__MACOSX\\pandas\\._Restaurant - Foods.csv\n",
      "C:\\Users\\fmichera\\Documents\\pandas\\__MACOSX\\pandas\\._Restaurant - Week 1 Sales.csv\n",
      "C:\\Users\\fmichera\\Documents\\pandas\\__MACOSX\\pandas\\._Restaurant - Week 1 Satisfaction.csv\n",
      "C:\\Users\\fmichera\\Documents\\pandas\\__MACOSX\\pandas\\._Restaurant - Week 2 Sales.csv\n",
      "C:\\Users\\fmichera\\Documents\\pandas\\__MACOSX\\pandas\\._revenue.csv\n",
      "C:\\Users\\fmichera\\Documents\\pandas\\__MACOSX\\pandas\\._salesmen.csv\n",
      "C:\\Users\\fmichera\\Documents\\pandas\\__MACOSX\\pandas\\._worldstats.csv\n"
     ]
    }
   ],
   "source": [
    "for root,directory,file in os.walk(os.getcwd()):\n",
    "    for f in file:\n",
    "        print(root + \"\\\\\" + f)"
   ]
  },
  {
   "cell_type": "code",
   "execution_count": 32,
   "id": "f38e9f46",
   "metadata": {},
   "outputs": [],
   "source": [
    "###how you can create folder"
   ]
  },
  {
   "cell_type": "code",
   "execution_count": 33,
   "id": "25c13849",
   "metadata": {},
   "outputs": [],
   "source": [
    "os.mkdir(\"ABC\")"
   ]
  },
  {
   "cell_type": "code",
   "execution_count": 34,
   "id": "c3c4f1f1",
   "metadata": {},
   "outputs": [
    {
     "data": {
      "text/plain": [
       "'C:\\\\Users\\\\fmichera\\\\Documents\\\\pandas'"
      ]
     },
     "execution_count": 34,
     "metadata": {},
     "output_type": "execute_result"
    }
   ],
   "source": [
    "os.getcwd()"
   ]
  },
  {
   "cell_type": "code",
   "execution_count": 36,
   "id": "fa472cfe",
   "metadata": {},
   "outputs": [
    {
     "data": {
      "text/plain": [
       "['.ipynb_checkpoints',\n",
       " 'ABC',\n",
       " 'pandas',\n",
       " 'rollback.xlsx',\n",
       " 'Untitled.ipynb',\n",
       " '__MACOSX']"
      ]
     },
     "execution_count": 36,
     "metadata": {},
     "output_type": "execute_result"
    }
   ],
   "source": [
    "os.listdir()"
   ]
  },
  {
   "cell_type": "code",
   "execution_count": 37,
   "id": "e0a8fec3",
   "metadata": {},
   "outputs": [],
   "source": [
    "##how you can remove folder IF IT IS  not EMPTY"
   ]
  },
  {
   "cell_type": "code",
   "execution_count": 39,
   "id": "2afa638b",
   "metadata": {},
   "outputs": [],
   "source": [
    "os.rmdir(\"ABC\")"
   ]
  },
  {
   "cell_type": "code",
   "execution_count": 40,
   "id": "00c30bdb",
   "metadata": {},
   "outputs": [
    {
     "data": {
      "text/plain": [
       "['.ipynb_checkpoints', 'pandas', 'rollback.xlsx', 'Untitled.ipynb', '__MACOSX']"
      ]
     },
     "execution_count": 40,
     "metadata": {},
     "output_type": "execute_result"
    }
   ],
   "source": [
    "os.listdir()"
   ]
  },
  {
   "cell_type": "code",
   "execution_count": 41,
   "id": "23938e63",
   "metadata": {},
   "outputs": [],
   "source": [
    "##TRY CAN WE DELETE FOLDER WHICH IS NOT EMPTY"
   ]
  },
  {
   "cell_type": "code",
   "execution_count": 42,
   "id": "cd402a06",
   "metadata": {},
   "outputs": [],
   "source": [
    "pth=r\"C:\\Users\\fmichera\\Downloads\\Copyright images conversion epub final\\B0B2F8JDDH\""
   ]
  },
  {
   "cell_type": "code",
   "execution_count": 43,
   "id": "f747de2e",
   "metadata": {},
   "outputs": [
    {
     "ename": "OSError",
     "evalue": "[WinError 145] The directory is not empty: 'C:\\\\Users\\\\fmichera\\\\Downloads\\\\Copyright images conversion epub final\\\\B0B2F8JDDH'",
     "output_type": "error",
     "traceback": [
      "\u001b[1;31m---------------------------------------------------------------------------\u001b[0m",
      "\u001b[1;31mOSError\u001b[0m                                   Traceback (most recent call last)",
      "Input \u001b[1;32mIn [43]\u001b[0m, in \u001b[0;36m<cell line: 1>\u001b[1;34m()\u001b[0m\n\u001b[1;32m----> 1\u001b[0m \u001b[43mos\u001b[49m\u001b[38;5;241;43m.\u001b[39;49m\u001b[43mrmdir\u001b[49m\u001b[43m(\u001b[49m\u001b[43mpth\u001b[49m\u001b[43m)\u001b[49m\n",
      "\u001b[1;31mOSError\u001b[0m: [WinError 145] The directory is not empty: 'C:\\\\Users\\\\fmichera\\\\Downloads\\\\Copyright images conversion epub final\\\\B0B2F8JDDH'"
     ]
    }
   ],
   "source": [
    "os.rmdir(pth)"
   ]
  },
  {
   "cell_type": "code",
   "execution_count": 44,
   "id": "bdf29fcc",
   "metadata": {},
   "outputs": [],
   "source": [
    "##how you can remove folder IF IT IS   EMPTY"
   ]
  },
  {
   "cell_type": "code",
   "execution_count": 45,
   "id": "6ce6f72b",
   "metadata": {},
   "outputs": [],
   "source": [
    "import shutil"
   ]
  },
  {
   "cell_type": "code",
   "execution_count": 46,
   "id": "02b43af8",
   "metadata": {},
   "outputs": [],
   "source": [
    "shutil.rmtree(pth)"
   ]
  },
  {
   "cell_type": "code",
   "execution_count": 47,
   "id": "0a7648b6",
   "metadata": {},
   "outputs": [],
   "source": [
    "##how to create a multiple directory and sub directories"
   ]
  },
  {
   "cell_type": "code",
   "execution_count": 50,
   "id": "72972d56",
   "metadata": {
    "collapsed": true
   },
   "outputs": [
    {
     "ename": "FileExistsError",
     "evalue": "[WinError 183] Cannot create a file when that file already exists: 'A/B/C/D'",
     "output_type": "error",
     "traceback": [
      "\u001b[1;31m---------------------------------------------------------------------------\u001b[0m",
      "\u001b[1;31mFileExistsError\u001b[0m                           Traceback (most recent call last)",
      "Input \u001b[1;32mIn [50]\u001b[0m, in \u001b[0;36m<cell line: 1>\u001b[1;34m()\u001b[0m\n\u001b[1;32m----> 1\u001b[0m \u001b[43mos\u001b[49m\u001b[38;5;241;43m.\u001b[39;49m\u001b[43mmakedirs\u001b[49m\u001b[43m(\u001b[49m\u001b[38;5;124;43m\"\u001b[39;49m\u001b[38;5;124;43mA/B/C/D\u001b[39;49m\u001b[38;5;124;43m\"\u001b[39;49m\u001b[43m)\u001b[49m\n",
      "File \u001b[1;32m~\\Anaconda3\\lib\\os.py:225\u001b[0m, in \u001b[0;36mmakedirs\u001b[1;34m(name, mode, exist_ok)\u001b[0m\n\u001b[0;32m    223\u001b[0m         \u001b[38;5;28;01mreturn\u001b[39;00m\n\u001b[0;32m    224\u001b[0m \u001b[38;5;28;01mtry\u001b[39;00m:\n\u001b[1;32m--> 225\u001b[0m     \u001b[43mmkdir\u001b[49m\u001b[43m(\u001b[49m\u001b[43mname\u001b[49m\u001b[43m,\u001b[49m\u001b[43m \u001b[49m\u001b[43mmode\u001b[49m\u001b[43m)\u001b[49m\n\u001b[0;32m    226\u001b[0m \u001b[38;5;28;01mexcept\u001b[39;00m \u001b[38;5;167;01mOSError\u001b[39;00m:\n\u001b[0;32m    227\u001b[0m     \u001b[38;5;66;03m# Cannot rely on checking for EEXIST, since the operating system\u001b[39;00m\n\u001b[0;32m    228\u001b[0m     \u001b[38;5;66;03m# could give priority to other errors like EACCES or EROFS\u001b[39;00m\n\u001b[0;32m    229\u001b[0m     \u001b[38;5;28;01mif\u001b[39;00m \u001b[38;5;129;01mnot\u001b[39;00m exist_ok \u001b[38;5;129;01mor\u001b[39;00m \u001b[38;5;129;01mnot\u001b[39;00m path\u001b[38;5;241m.\u001b[39misdir(name):\n",
      "\u001b[1;31mFileExistsError\u001b[0m: [WinError 183] Cannot create a file when that file already exists: 'A/B/C/D'"
     ]
    }
   ],
   "source": [
    "os.makedirs(\"A/B/C/D\")  ##IT WILL CREATE MULTIPLE DIRECTORY IN CWD"
   ]
  },
  {
   "cell_type": "code",
   "execution_count": 51,
   "id": "41df8a94",
   "metadata": {},
   "outputs": [],
   "source": [
    "os.removedirs(\"A/B/C/D\") ##IT WILL Rmeove MULTIPLE DIRECTORY IN CWD"
   ]
  },
  {
   "cell_type": "code",
   "execution_count": 52,
   "id": "fdc779e4",
   "metadata": {},
   "outputs": [],
   "source": [
    "###FILE MANIPULATION"
   ]
  },
  {
   "cell_type": "code",
   "execution_count": 53,
   "id": "96d69353",
   "metadata": {},
   "outputs": [],
   "source": [
    "os.chdir(r\"C:\\Users\\fmichera\\Documents\\pandas\\pandas\")"
   ]
  },
  {
   "cell_type": "code",
   "execution_count": 54,
   "id": "59aa67c7",
   "metadata": {},
   "outputs": [
    {
     "data": {
      "text/plain": [
       "['.ipynb_checkpoints',\n",
       " 'bigmac.csv',\n",
       " 'chicago.csv',\n",
       " 'Data - Multiple Worksheets.xlsx',\n",
       " 'Data - Single Worksheet.xlsx',\n",
       " 'DataFrames2.ipynb',\n",
       " 'DataFrames3-Copy1.ipynb',\n",
       " 'DataFrames3.ipynb',\n",
       " 'ecommerce.csv',\n",
       " 'employees.csv',\n",
       " 'foods.csv',\n",
       " 'fortune1000.csv',\n",
       " 'google_stock_price.csv',\n",
       " 'GroupBY.ipynb',\n",
       " 'image.jpg',\n",
       " 'image.png',\n",
       " 'jamesbond.csv',\n",
       " 'Matplotlib.ipynb',\n",
       " 'nba.csv',\n",
       " 'pandas framework.ipynb',\n",
       " 'pokemon.csv',\n",
       " 'quarters.csv',\n",
       " 'Restaurant - Customers.csv',\n",
       " 'Restaurant - Foods.csv',\n",
       " 'Restaurant - Week 1 Sales.csv',\n",
       " 'Restaurant - Week 1 Satisfaction.csv',\n",
       " 'Restaurant - Week 2 Sales.csv',\n",
       " 'revenue.csv',\n",
       " 'salesmen.csv',\n",
       " 'Untitled.ipynb',\n",
       " 'Untitled1.ipynb',\n",
       " 'Working with text Data.ipynb',\n",
       " 'worldstats.csv']"
      ]
     },
     "execution_count": 54,
     "metadata": {},
     "output_type": "execute_result"
    }
   ],
   "source": [
    "os.listdir()"
   ]
  },
  {
   "cell_type": "code",
   "execution_count": 55,
   "id": "e724783c",
   "metadata": {},
   "outputs": [],
   "source": [
    "os.rename(\"pokemon.csv\",\"pok.csv\")"
   ]
  },
  {
   "cell_type": "code",
   "execution_count": 57,
   "id": "72b5d3f8",
   "metadata": {},
   "outputs": [],
   "source": [
    "os.rename(\"pok.csv\",\"pok\")"
   ]
  },
  {
   "cell_type": "code",
   "execution_count": 58,
   "id": "8e8bd69f",
   "metadata": {},
   "outputs": [
    {
     "name": "stdout",
     "output_type": "stream",
     "text": [
      "['.ipynb_checkpoints', 'bigmac.csv', 'chicago.csv', 'Data - Multiple Worksheets.xlsx', 'Data - Single Worksheet.xlsx', 'DataFrames2.ipynb', 'DataFrames3-Copy1.ipynb', 'DataFrames3.ipynb', 'ecommerce.csv', 'employees.csv', 'foods.csv', 'fortune1000.csv', 'google_stock_price.csv', 'GroupBY.ipynb', 'image.jpg', 'image.png', 'jamesbond.csv', 'Matplotlib.ipynb', 'nba.csv', 'pandas framework.ipynb', 'pok', 'quarters.csv', 'Restaurant - Customers.csv', 'Restaurant - Foods.csv', 'Restaurant - Week 1 Sales.csv', 'Restaurant - Week 1 Satisfaction.csv', 'Restaurant - Week 2 Sales.csv', 'revenue.csv', 'salesmen.csv', 'Untitled.ipynb', 'Untitled1.ipynb', 'Working with text Data.ipynb', 'worldstats.csv']\n"
     ]
    }
   ],
   "source": [
    "print(os.listdir())"
   ]
  },
  {
   "cell_type": "code",
   "execution_count": 59,
   "id": "74dda746",
   "metadata": {},
   "outputs": [
    {
     "data": {
      "text/plain": [
       "10569"
      ]
     },
     "execution_count": 59,
     "metadata": {},
     "output_type": "execute_result"
    }
   ],
   "source": [
    "os.stat(\"pok\").st_size##it will give u answer in the bytes"
   ]
  },
  {
   "cell_type": "code",
   "execution_count": 60,
   "id": "efaa9819",
   "metadata": {},
   "outputs": [
    {
     "data": {
      "text/plain": [
       "10.3212890625"
      ]
     },
     "execution_count": 60,
     "metadata": {},
     "output_type": "execute_result"
    }
   ],
   "source": [
    "os.stat(\"pok\").st_size /1024  ## in kilo bytes"
   ]
  },
  {
   "cell_type": "code",
   "execution_count": 62,
   "id": "b0ee1db4",
   "metadata": {},
   "outputs": [
    {
     "data": {
      "text/plain": [
       "0.010079383850097656"
      ]
     },
     "execution_count": 62,
     "metadata": {},
     "output_type": "execute_result"
    }
   ],
   "source": [
    "os.stat(\"pok\").st_size / pow(1024,2)### IN MEGA BYTES"
   ]
  },
  {
   "cell_type": "code",
   "execution_count": 65,
   "id": "2b942c97",
   "metadata": {},
   "outputs": [
    {
     "data": {
      "text/plain": [
       "9.843148291110992e-06"
      ]
     },
     "execution_count": 65,
     "metadata": {},
     "output_type": "execute_result"
    }
   ],
   "source": [
    "os.stat(\"pok\").st_size / pow(1024,3)###IN GB"
   ]
  },
  {
   "cell_type": "code",
   "execution_count": 66,
   "id": "7fd4b0fe",
   "metadata": {},
   "outputs": [],
   "source": [
    "## HOW CAN I GET THE dESKTOP FOLDER PATH\n"
   ]
  },
  {
   "cell_type": "code",
   "execution_count": 67,
   "id": "2f7773d4",
   "metadata": {},
   "outputs": [
    {
     "data": {
      "text/plain": [
       "'C:\\\\Users\\\\fmichera\\\\Desktop'"
      ]
     },
     "execution_count": 67,
     "metadata": {},
     "output_type": "execute_result"
    }
   ],
   "source": [
    "os.environ [\"userprofile\"] + \"\\Desktop\""
   ]
  },
  {
   "cell_type": "code",
   "execution_count": 69,
   "id": "a06a008b",
   "metadata": {
    "scrolled": true
   },
   "outputs": [
    {
     "data": {
      "text/plain": [
       "'C:\\\\Users\\\\fmichera\\\\Desktop'"
      ]
     },
     "execution_count": 69,
     "metadata": {},
     "output_type": "execute_result"
    }
   ],
   "source": [
    "os.path.join(os.path.join(os.environ [\"userprofile\"] + \"\\Desktop\"))"
   ]
  },
  {
   "cell_type": "code",
   "execution_count": 70,
   "id": "d0e51417",
   "metadata": {},
   "outputs": [
    {
     "data": {
      "text/plain": [
       "'C:\\\\Users\\\\fmichera\\\\Downloads'"
      ]
     },
     "execution_count": 70,
     "metadata": {},
     "output_type": "execute_result"
    }
   ],
   "source": [
    "os.environ [\"userprofile\"] + \"\\Downloads\""
   ]
  },
  {
   "cell_type": "code",
   "execution_count": 71,
   "id": "3604821f",
   "metadata": {},
   "outputs": [
    {
     "data": {
      "text/plain": [
       "'C:\\\\Users\\\\fmichera\\\\Documents'"
      ]
     },
     "execution_count": 71,
     "metadata": {},
     "output_type": "execute_result"
    }
   ],
   "source": [
    " os.environ [\"userprofile\"] + \"\\Documents\""
   ]
  },
  {
   "cell_type": "code",
   "execution_count": 74,
   "id": "c7314620",
   "metadata": {},
   "outputs": [
    {
     "name": "stdout",
     "output_type": "stream",
     "text": [
      "C:\\Users\\fmichera\n"
     ]
    }
   ],
   "source": [
    "cd"
   ]
  },
  {
   "cell_type": "code",
   "execution_count": 75,
   "id": "b8bbd34a",
   "metadata": {
    "scrolled": true
   },
   "outputs": [
    {
     "name": "stdout",
     "output_type": "stream",
     "text": [
      " Volume in drive C is OSDisk\n",
      " Volume Serial Number is A8B4-4642\n",
      "\n",
      " Directory of C:\\Users\\fmichera\n",
      "\n",
      "10/18/2022  11:38 AM    <DIR>          .\n",
      "10/18/2022  11:38 AM    <DIR>          ..\n",
      "08/16/2022  10:41 AM    <DIR>          .anaconda\n",
      "05/13/2022  03:31 PM    <DIR>          .android\n",
      "03/22/2022  11:08 AM    <DIR>          .cache\n",
      "11/22/2021  02:32 PM    <DIR>          .cisco\n",
      "08/25/2022  05:39 PM    <DIR>          .conda\n",
      "08/11/2022  11:43 AM                25 .condarc\n",
      "05/13/2022  03:27 PM    <DIR>          .config\n",
      "08/11/2022  11:43 AM    <DIR>          .continuum\n",
      "03/22/2022  11:08 AM    <DIR>          .eclipse\n",
      "10/17/2022  02:55 PM    <DIR>          .Epubor_Keys\n",
      "02/24/2022  09:10 PM    <DIR>          .idea\n",
      "12/13/2021  06:23 PM    <DIR>          .idlerc\n",
      "10/18/2022  10:10 AM    <DIR>          .ipynb_checkpoints\n",
      "08/11/2022  11:53 AM    <DIR>          .ipython\n",
      "08/25/2022  12:00 PM    <DIR>          .jupyter\n",
      "01/11/2022  03:36 PM    <DIR>          .kindle\n",
      "03/22/2022  11:11 AM    <DIR>          .m2\n",
      "09/17/2022  06:45 PM    <DIR>          .matplotlib\n",
      "10/17/2022  03:57 PM    <DIR>          .midway\n",
      "07/01/2022  12:29 PM    <DIR>          .ms-ad\n",
      "10/17/2022  01:44 PM    <DIR>          .p2\n",
      "10/14/2022  01:27 PM    <DIR>          .sqlworkbench\n",
      "10/13/2022  11:57 AM    <DIR>          .ssh\n",
      "07/26/2022  07:10 PM    <DIR>          .vscode\n",
      "09/07/2022  09:28 PM    <DIR>          .wdm\n",
      "11/22/2021  02:31 PM    <DIR>          3D Objects\n",
      "08/16/2022  02:17 PM    <DIR>          Anaconda3\n",
      "05/13/2022  03:35 PM                47 backup.ab\n",
      "10/17/2022  02:55 PM    <DIR>          Calibre Library\n",
      "11/22/2021  02:31 PM    <DIR>          Contacts\n",
      "08/19/2022  10:15 AM                21 dcv_session\n",
      "10/15/2022  01:13 PM    <DIR>          Desktop\n",
      "10/18/2022  08:56 AM    <DIR>          Documents\n",
      "10/18/2022  08:59 AM    <DIR>          Downloads\n",
      "09/29/2022  01:34 PM             3,107 DSA - DP(Dynamic Programing).ipynb\n",
      "03/21/2022  04:09 PM    <DIR>          eclipse\n",
      "03/22/2022  11:08 AM    <DIR>          eclipse-workspace\n",
      "10/03/2022  02:10 PM    <DIR>          EpuborLog\n",
      "03/15/2022  07:37 PM    <DIR>          Favorite\n",
      "11/22/2021  02:31 PM    <DIR>          Favorites\n",
      "08/10/2022  03:57 PM                 0 geckodriver.log\n",
      "11/22/2021  02:31 PM    <DIR>          Links\n",
      "01/27/2022  04:04 PM    <DIR>          Music\n",
      "11/22/2021  02:32 PM    <DIR>          OneDrive\n",
      "10/18/2022  11:38 AM            30,171 OS Module.ipynb\n",
      "01/11/2022  04:45 PM    <DIR>          Pictures\n",
      "10/04/2022  01:36 PM             8,402 practise.ipynb\n",
      "10/06/2022  02:54 PM    <DIR>          PycharmProjects\n",
      "11/22/2021  02:31 PM    <DIR>          Saved Games\n",
      "09/27/2022  04:27 PM    <DIR>          seaborn-data\n",
      "11/22/2021  02:32 PM    <DIR>          Searches\n",
      "10/15/2022  10:52 PM            11,483 Task 1.ipynb\n",
      "04/22/2022  01:55 PM    <DIR>          Ultimate\n",
      "08/11/2022  11:47 AM    <DIR>          Untitled Folder\n",
      "08/13/2022  02:58 PM             1,563 Untitled.ipynb\n",
      "09/25/2022  12:46 PM             5,889 Untitled1.ipynb\n",
      "09/26/2022  02:24 PM             4,443 Untitled2.ipynb\n",
      "08/11/2022  10:48 AM    <DIR>          Videos\n",
      "              11 File(s)         65,151 bytes\n",
      "              49 Dir(s)  83,986,747,392 bytes free\n"
     ]
    }
   ],
   "source": [
    "ls"
   ]
  },
  {
   "cell_type": "code",
   "execution_count": 76,
   "id": "db8670d4",
   "metadata": {},
   "outputs": [
    {
     "data": {
      "text/plain": [
       "'C:\\\\Users\\\\fmichera\\\\Desktop'"
      ]
     },
     "execution_count": 76,
     "metadata": {},
     "output_type": "execute_result"
    }
   ],
   "source": [
    "os.path.normpath(os.path.expanduser(\"~/Desktop\"))"
   ]
  },
  {
   "cell_type": "code",
   "execution_count": null,
   "id": "75ebbbc2",
   "metadata": {},
   "outputs": [],
   "source": []
  }
 ],
 "metadata": {
  "kernelspec": {
   "display_name": "Python 3 (ipykernel)",
   "language": "python",
   "name": "python3"
  },
  "language_info": {
   "codemirror_mode": {
    "name": "ipython",
    "version": 3
   },
   "file_extension": ".py",
   "mimetype": "text/x-python",
   "name": "python",
   "nbconvert_exporter": "python",
   "pygments_lexer": "ipython3",
   "version": "3.9.12"
  }
 },
 "nbformat": 4,
 "nbformat_minor": 5
}
