{
 "cells": [
  {
   "cell_type": "raw",
   "id": "4528a4a7",
   "metadata": {},
   "source": [
    "## Here are the argu8ments we need to pass to read_json or to_json for respective formats\n",
    "\n",
    "1)orient=split - columns,index and data are seperated\n",
    "2)orient=records - array of json documents (eg.courses.json)\n",
    "3)lines=True  multiple jsons with one json per line(eg.customers.json)\n",
    "We can use to json to display the output from buffer.We can also write to files using to _json.\n",
    "We can specify orient as part of to_json along with _ as path or buffer to see the output with out writing the files.\n",
    "Here are examples with different supported JSON formats."
   ]
  },
  {
   "cell_type": "raw",
   "id": "6fd3da26",
   "metadata": {},
   "source": [
    "Common Use Cases for JSON\n",
    "Here are some of the common use cases for JSON.\n",
    "• Read data from JSON files.\n",
    "• Write data to JSON files.\n",
    "• We can use either json or pandas modules to read da a from JsON files or write data to JSON files. One need to be familiar with both the\n",
    "approaches as each of them have different use cases and codes.\n",
    "• Read JSON based response payloads on REST API Calls. We use requests module to process the REST API response Payloads.\n",
    "• Once the payload is returned,we can use appropriate modules to process the data further."
   ]
  },
  {
   "cell_type": "code",
   "execution_count": 1,
   "id": "d8ac0a51",
   "metadata": {},
   "outputs": [],
   "source": [
    "person='''[\n",
    "  {\n",
    "    \"name\": \"Max Schwarzmueller\",\n",
    "    \"age\": 29\n",
    "  },\n",
    "  {\n",
    "    \"name\": \"Manu Lorenz\",\n",
    "    \"age\": 30\n",
    "  },\n",
    "  {\n",
    "    \"name\": \"Chris Hayton\",\n",
    "    \"age\": 35\n",
    "  },\n",
    "  {\n",
    "    \"name\": \"Sandeep Kumar\",\n",
    "    \"age\": 28\n",
    "  },\n",
    "  {\n",
    "    \"name\": \"Maria Jones\",\n",
    "    \"age\": 30\n",
    "  },\n",
    "  {\n",
    "    \"name\": \"Alexandra Maier\",\n",
    "    \"age\": 27\n",
    "  },\n",
    "  {\n",
    "    \"name\": \"Dr. Phil Evans\",\n",
    "    \"age\": 47\n",
    "  },\n",
    "  {\n",
    "    \"name\": \"Sandra Brugge\",\n",
    "    \"age\": 33\n",
    "  },\n",
    "  {\n",
    "    \"name\": \"Elisabeth Mayr\",\n",
    "    \"age\": 29\n",
    "  },\n",
    "  {\n",
    "    \"name\": \"Frank Cube\",\n",
    "    \"age\": 41\n",
    "  },\n",
    "  {\n",
    "    \"name\": \"Karandeep Alun\",\n",
    "    \"age\": 48\n",
    "  },\n",
    "  {\n",
    "    \"name\": \"Michaela Drayer\",\n",
    "    \"age\": 39\n",
    "  },\n",
    "  {\n",
    "    \"name\": \"Bernd Hoftstadt\",\n",
    "    \"age\": 22\n",
    "  },\n",
    "  {\n",
    "    \"name\": \"Scott Tolib\",\n",
    "    \"age\": 44\n",
    "  },\n",
    "  {\n",
    "    \"name\": \"Freddy Melver\",\n",
    "    \"age\": 41\n",
    "  },\n",
    "  {\n",
    "    \"name\": \"Alexis Bohed\",\n",
    "    \"age\": 35\n",
    "  },\n",
    "  {\n",
    "    \"name\": \"Melanie Palace\",\n",
    "    \"age\": 27\n",
    "  },\n",
    "  {\n",
    "    \"name\": \"Armin Glutch\",\n",
    "    \"age\": 35\n",
    "  },\n",
    "  {\n",
    "    \"name\": \"Klaus Arber\",\n",
    "    \"age\": 53\n",
    "  },\n",
    "  {\n",
    "    \"name\": \"Albert Twostone\",\n",
    "    \"age\": 68\n",
    "  },\n",
    "  {\n",
    "    \"name\": \"Gordon Black\",\n",
    "    \"age\": 38\n",
    "  }\n",
    "]'''\n"
   ]
  },
  {
   "cell_type": "code",
   "execution_count": 2,
   "id": "da2886e6",
   "metadata": {},
   "outputs": [
    {
     "data": {
      "text/plain": [
       "'[\\n  {\\n    \"name\": \"Max Schwarzmueller\",\\n    \"age\": 29\\n  },\\n  {\\n    \"name\": \"Manu Lorenz\",\\n    \"age\": 30\\n  },\\n  {\\n    \"name\": \"Chris Hayton\",\\n    \"age\": 35\\n  },\\n  {\\n    \"name\": \"Sandeep Kumar\",\\n    \"age\": 28\\n  },\\n  {\\n    \"name\": \"Maria Jones\",\\n    \"age\": 30\\n  },\\n  {\\n    \"name\": \"Alexandra Maier\",\\n    \"age\": 27\\n  },\\n  {\\n    \"name\": \"Dr. Phil Evans\",\\n    \"age\": 47\\n  },\\n  {\\n    \"name\": \"Sandra Brugge\",\\n    \"age\": 33\\n  },\\n  {\\n    \"name\": \"Elisabeth Mayr\",\\n    \"age\": 29\\n  },\\n  {\\n    \"name\": \"Frank Cube\",\\n    \"age\": 41\\n  },\\n  {\\n    \"name\": \"Karandeep Alun\",\\n    \"age\": 48\\n  },\\n  {\\n    \"name\": \"Michaela Drayer\",\\n    \"age\": 39\\n  },\\n  {\\n    \"name\": \"Bernd Hoftstadt\",\\n    \"age\": 22\\n  },\\n  {\\n    \"name\": \"Scott Tolib\",\\n    \"age\": 44\\n  },\\n  {\\n    \"name\": \"Freddy Melver\",\\n    \"age\": 41\\n  },\\n  {\\n    \"name\": \"Alexis Bohed\",\\n    \"age\": 35\\n  },\\n  {\\n    \"name\": \"Melanie Palace\",\\n    \"age\": 27\\n  },\\n  {\\n    \"name\": \"Armin Glutch\",\\n    \"age\": 35\\n  },\\n  {\\n    \"name\": \"Klaus Arber\",\\n    \"age\": 53\\n  },\\n  {\\n    \"name\": \"Albert Twostone\",\\n    \"age\": 68\\n  },\\n  {\\n    \"name\": \"Gordon Black\",\\n    \"age\": 38\\n  }\\n]'"
      ]
     },
     "execution_count": 2,
     "metadata": {},
     "output_type": "execute_result"
    }
   ],
   "source": [
    "person\n"
   ]
  },
  {
   "cell_type": "code",
   "execution_count": 4,
   "id": "03fb5968",
   "metadata": {},
   "outputs": [],
   "source": [
    "import pandas as pd"
   ]
  },
  {
   "cell_type": "code",
   "execution_count": 19,
   "id": "87d49351",
   "metadata": {},
   "outputs": [
    {
     "ename": "SyntaxError",
     "evalue": "EOL while scanning string literal (1115626189.py, line 1)",
     "output_type": "error",
     "traceback": [
      "\u001b[1;36m  Input \u001b[1;32mIn [19]\u001b[1;36m\u001b[0m\n\u001b[1;33m    df=pd.read_json(r\"C:\\Users\\fmichera\\Downloads\\02-passengers.json)\u001b[0m\n\u001b[1;37m                                                                     ^\u001b[0m\n\u001b[1;31mSyntaxError\u001b[0m\u001b[1;31m:\u001b[0m EOL while scanning string literal\n"
     ]
    }
   ],
   "source": [
    "df=pd.read_json(r\"C:\\Users\\fmichera\\Downloads\\02-passengers.json)"
   ]
  },
  {
   "cell_type": "code",
   "execution_count": 20,
   "id": "ef590ba3",
   "metadata": {},
   "outputs": [
    {
     "data": {
      "text/html": [
       "<div>\n",
       "<style scoped>\n",
       "    .dataframe tbody tr th:only-of-type {\n",
       "        vertical-align: middle;\n",
       "    }\n",
       "\n",
       "    .dataframe tbody tr th {\n",
       "        vertical-align: top;\n",
       "    }\n",
       "\n",
       "    .dataframe thead th {\n",
       "        text-align: right;\n",
       "    }\n",
       "</style>\n",
       "<table border=\"1\" class=\"dataframe\">\n",
       "  <thead>\n",
       "    <tr style=\"text-align: right;\">\n",
       "      <th></th>\n",
       "      <th>name</th>\n",
       "      <th>age</th>\n",
       "    </tr>\n",
       "  </thead>\n",
       "  <tbody>\n",
       "    <tr>\n",
       "      <th>0</th>\n",
       "      <td>Max Schwarzmueller</td>\n",
       "      <td>29</td>\n",
       "    </tr>\n",
       "    <tr>\n",
       "      <th>1</th>\n",
       "      <td>Manu Lorenz</td>\n",
       "      <td>30</td>\n",
       "    </tr>\n",
       "    <tr>\n",
       "      <th>2</th>\n",
       "      <td>Chris Hayton</td>\n",
       "      <td>35</td>\n",
       "    </tr>\n",
       "    <tr>\n",
       "      <th>3</th>\n",
       "      <td>Sandeep Kumar</td>\n",
       "      <td>28</td>\n",
       "    </tr>\n",
       "    <tr>\n",
       "      <th>4</th>\n",
       "      <td>Maria Jones</td>\n",
       "      <td>30</td>\n",
       "    </tr>\n",
       "    <tr>\n",
       "      <th>5</th>\n",
       "      <td>Alexandra Maier</td>\n",
       "      <td>27</td>\n",
       "    </tr>\n",
       "    <tr>\n",
       "      <th>6</th>\n",
       "      <td>Dr. Phil Evans</td>\n",
       "      <td>47</td>\n",
       "    </tr>\n",
       "    <tr>\n",
       "      <th>7</th>\n",
       "      <td>Sandra Brugge</td>\n",
       "      <td>33</td>\n",
       "    </tr>\n",
       "    <tr>\n",
       "      <th>8</th>\n",
       "      <td>Elisabeth Mayr</td>\n",
       "      <td>29</td>\n",
       "    </tr>\n",
       "    <tr>\n",
       "      <th>9</th>\n",
       "      <td>Frank Cube</td>\n",
       "      <td>41</td>\n",
       "    </tr>\n",
       "    <tr>\n",
       "      <th>10</th>\n",
       "      <td>Karandeep Alun</td>\n",
       "      <td>48</td>\n",
       "    </tr>\n",
       "    <tr>\n",
       "      <th>11</th>\n",
       "      <td>Michaela Drayer</td>\n",
       "      <td>39</td>\n",
       "    </tr>\n",
       "    <tr>\n",
       "      <th>12</th>\n",
       "      <td>Bernd Hoftstadt</td>\n",
       "      <td>22</td>\n",
       "    </tr>\n",
       "    <tr>\n",
       "      <th>13</th>\n",
       "      <td>Scott Tolib</td>\n",
       "      <td>44</td>\n",
       "    </tr>\n",
       "    <tr>\n",
       "      <th>14</th>\n",
       "      <td>Freddy Melver</td>\n",
       "      <td>41</td>\n",
       "    </tr>\n",
       "    <tr>\n",
       "      <th>15</th>\n",
       "      <td>Alexis Bohed</td>\n",
       "      <td>35</td>\n",
       "    </tr>\n",
       "    <tr>\n",
       "      <th>16</th>\n",
       "      <td>Melanie Palace</td>\n",
       "      <td>27</td>\n",
       "    </tr>\n",
       "    <tr>\n",
       "      <th>17</th>\n",
       "      <td>Armin Glutch</td>\n",
       "      <td>35</td>\n",
       "    </tr>\n",
       "    <tr>\n",
       "      <th>18</th>\n",
       "      <td>Klaus Arber</td>\n",
       "      <td>53</td>\n",
       "    </tr>\n",
       "    <tr>\n",
       "      <th>19</th>\n",
       "      <td>Albert Twostone</td>\n",
       "      <td>68</td>\n",
       "    </tr>\n",
       "    <tr>\n",
       "      <th>20</th>\n",
       "      <td>Gordon Black</td>\n",
       "      <td>38</td>\n",
       "    </tr>\n",
       "  </tbody>\n",
       "</table>\n",
       "</div>"
      ],
      "text/plain": [
       "                  name  age\n",
       "0   Max Schwarzmueller   29\n",
       "1          Manu Lorenz   30\n",
       "2         Chris Hayton   35\n",
       "3        Sandeep Kumar   28\n",
       "4          Maria Jones   30\n",
       "5      Alexandra Maier   27\n",
       "6       Dr. Phil Evans   47\n",
       "7        Sandra Brugge   33\n",
       "8       Elisabeth Mayr   29\n",
       "9           Frank Cube   41\n",
       "10      Karandeep Alun   48\n",
       "11     Michaela Drayer   39\n",
       "12     Bernd Hoftstadt   22\n",
       "13         Scott Tolib   44\n",
       "14       Freddy Melver   41\n",
       "15        Alexis Bohed   35\n",
       "16      Melanie Palace   27\n",
       "17        Armin Glutch   35\n",
       "18         Klaus Arber   53\n",
       "19     Albert Twostone   68\n",
       "20        Gordon Black   38"
      ]
     },
     "execution_count": 20,
     "metadata": {},
     "output_type": "execute_result"
    }
   ],
   "source": [
    "df\n"
   ]
  },
  {
   "cell_type": "code",
   "execution_count": 16,
   "id": "975f788b",
   "metadata": {
    "collapsed": true
   },
   "outputs": [
    {
     "ename": "TypeError",
     "evalue": "argument of type 'method' is not iterable",
     "output_type": "error",
     "traceback": [
      "\u001b[1;31m---------------------------------------------------------------------------\u001b[0m",
      "\u001b[1;31mTypeError\u001b[0m                                 Traceback (most recent call last)",
      "Input \u001b[1;32mIn [16]\u001b[0m, in \u001b[0;36m<cell line: 1>\u001b[1;34m()\u001b[0m\n\u001b[1;32m----> 1\u001b[0m df\u001b[38;5;241m=\u001b[39m\u001b[43mpd\u001b[49m\u001b[38;5;241;43m.\u001b[39;49m\u001b[43mread_json\u001b[49m\u001b[43m(\u001b[49m\u001b[43m_\u001b[49m\u001b[43m,\u001b[49m\u001b[43m \u001b[49m\u001b[43morient\u001b[49m\u001b[38;5;241;43m=\u001b[39;49m\u001b[38;5;124;43m'\u001b[39;49m\u001b[38;5;124;43msplit\u001b[39;49m\u001b[38;5;124;43m'\u001b[39;49m\u001b[43m)\u001b[49m\n",
      "File \u001b[1;32m~\\Anaconda3\\lib\\site-packages\\pandas\\util\\_decorators.py:207\u001b[0m, in \u001b[0;36mdeprecate_kwarg.<locals>._deprecate_kwarg.<locals>.wrapper\u001b[1;34m(*args, **kwargs)\u001b[0m\n\u001b[0;32m    205\u001b[0m     \u001b[38;5;28;01melse\u001b[39;00m:\n\u001b[0;32m    206\u001b[0m         kwargs[new_arg_name] \u001b[38;5;241m=\u001b[39m new_arg_value\n\u001b[1;32m--> 207\u001b[0m \u001b[38;5;28;01mreturn\u001b[39;00m func(\u001b[38;5;241m*\u001b[39margs, \u001b[38;5;241m*\u001b[39m\u001b[38;5;241m*\u001b[39mkwargs)\n",
      "File \u001b[1;32m~\\Anaconda3\\lib\\site-packages\\pandas\\util\\_decorators.py:311\u001b[0m, in \u001b[0;36mdeprecate_nonkeyword_arguments.<locals>.decorate.<locals>.wrapper\u001b[1;34m(*args, **kwargs)\u001b[0m\n\u001b[0;32m    305\u001b[0m \u001b[38;5;28;01mif\u001b[39;00m \u001b[38;5;28mlen\u001b[39m(args) \u001b[38;5;241m>\u001b[39m num_allow_args:\n\u001b[0;32m    306\u001b[0m     warnings\u001b[38;5;241m.\u001b[39mwarn(\n\u001b[0;32m    307\u001b[0m         msg\u001b[38;5;241m.\u001b[39mformat(arguments\u001b[38;5;241m=\u001b[39marguments),\n\u001b[0;32m    308\u001b[0m         \u001b[38;5;167;01mFutureWarning\u001b[39;00m,\n\u001b[0;32m    309\u001b[0m         stacklevel\u001b[38;5;241m=\u001b[39mstacklevel,\n\u001b[0;32m    310\u001b[0m     )\n\u001b[1;32m--> 311\u001b[0m \u001b[38;5;28;01mreturn\u001b[39;00m func(\u001b[38;5;241m*\u001b[39margs, \u001b[38;5;241m*\u001b[39m\u001b[38;5;241m*\u001b[39mkwargs)\n",
      "File \u001b[1;32m~\\Anaconda3\\lib\\site-packages\\pandas\\io\\json\\_json.py:588\u001b[0m, in \u001b[0;36mread_json\u001b[1;34m(path_or_buf, orient, typ, dtype, convert_axes, convert_dates, keep_default_dates, numpy, precise_float, date_unit, encoding, encoding_errors, lines, chunksize, compression, nrows, storage_options)\u001b[0m\n\u001b[0;32m    585\u001b[0m \u001b[38;5;28;01mif\u001b[39;00m convert_axes \u001b[38;5;129;01mis\u001b[39;00m \u001b[38;5;28;01mNone\u001b[39;00m \u001b[38;5;129;01mand\u001b[39;00m orient \u001b[38;5;241m!=\u001b[39m \u001b[38;5;124m\"\u001b[39m\u001b[38;5;124mtable\u001b[39m\u001b[38;5;124m\"\u001b[39m:\n\u001b[0;32m    586\u001b[0m     convert_axes \u001b[38;5;241m=\u001b[39m \u001b[38;5;28;01mTrue\u001b[39;00m\n\u001b[1;32m--> 588\u001b[0m json_reader \u001b[38;5;241m=\u001b[39m \u001b[43mJsonReader\u001b[49m\u001b[43m(\u001b[49m\n\u001b[0;32m    589\u001b[0m \u001b[43m    \u001b[49m\u001b[43mpath_or_buf\u001b[49m\u001b[43m,\u001b[49m\n\u001b[0;32m    590\u001b[0m \u001b[43m    \u001b[49m\u001b[43morient\u001b[49m\u001b[38;5;241;43m=\u001b[39;49m\u001b[43morient\u001b[49m\u001b[43m,\u001b[49m\n\u001b[0;32m    591\u001b[0m \u001b[43m    \u001b[49m\u001b[43mtyp\u001b[49m\u001b[38;5;241;43m=\u001b[39;49m\u001b[43mtyp\u001b[49m\u001b[43m,\u001b[49m\n\u001b[0;32m    592\u001b[0m \u001b[43m    \u001b[49m\u001b[43mdtype\u001b[49m\u001b[38;5;241;43m=\u001b[39;49m\u001b[43mdtype\u001b[49m\u001b[43m,\u001b[49m\n\u001b[0;32m    593\u001b[0m \u001b[43m    \u001b[49m\u001b[43mconvert_axes\u001b[49m\u001b[38;5;241;43m=\u001b[39;49m\u001b[43mconvert_axes\u001b[49m\u001b[43m,\u001b[49m\n\u001b[0;32m    594\u001b[0m \u001b[43m    \u001b[49m\u001b[43mconvert_dates\u001b[49m\u001b[38;5;241;43m=\u001b[39;49m\u001b[43mconvert_dates\u001b[49m\u001b[43m,\u001b[49m\n\u001b[0;32m    595\u001b[0m \u001b[43m    \u001b[49m\u001b[43mkeep_default_dates\u001b[49m\u001b[38;5;241;43m=\u001b[39;49m\u001b[43mkeep_default_dates\u001b[49m\u001b[43m,\u001b[49m\n\u001b[0;32m    596\u001b[0m \u001b[43m    \u001b[49m\u001b[43mnumpy\u001b[49m\u001b[38;5;241;43m=\u001b[39;49m\u001b[43mnumpy\u001b[49m\u001b[43m,\u001b[49m\n\u001b[0;32m    597\u001b[0m \u001b[43m    \u001b[49m\u001b[43mprecise_float\u001b[49m\u001b[38;5;241;43m=\u001b[39;49m\u001b[43mprecise_float\u001b[49m\u001b[43m,\u001b[49m\n\u001b[0;32m    598\u001b[0m \u001b[43m    \u001b[49m\u001b[43mdate_unit\u001b[49m\u001b[38;5;241;43m=\u001b[39;49m\u001b[43mdate_unit\u001b[49m\u001b[43m,\u001b[49m\n\u001b[0;32m    599\u001b[0m \u001b[43m    \u001b[49m\u001b[43mencoding\u001b[49m\u001b[38;5;241;43m=\u001b[39;49m\u001b[43mencoding\u001b[49m\u001b[43m,\u001b[49m\n\u001b[0;32m    600\u001b[0m \u001b[43m    \u001b[49m\u001b[43mlines\u001b[49m\u001b[38;5;241;43m=\u001b[39;49m\u001b[43mlines\u001b[49m\u001b[43m,\u001b[49m\n\u001b[0;32m    601\u001b[0m \u001b[43m    \u001b[49m\u001b[43mchunksize\u001b[49m\u001b[38;5;241;43m=\u001b[39;49m\u001b[43mchunksize\u001b[49m\u001b[43m,\u001b[49m\n\u001b[0;32m    602\u001b[0m \u001b[43m    \u001b[49m\u001b[43mcompression\u001b[49m\u001b[38;5;241;43m=\u001b[39;49m\u001b[43mcompression\u001b[49m\u001b[43m,\u001b[49m\n\u001b[0;32m    603\u001b[0m \u001b[43m    \u001b[49m\u001b[43mnrows\u001b[49m\u001b[38;5;241;43m=\u001b[39;49m\u001b[43mnrows\u001b[49m\u001b[43m,\u001b[49m\n\u001b[0;32m    604\u001b[0m \u001b[43m    \u001b[49m\u001b[43mstorage_options\u001b[49m\u001b[38;5;241;43m=\u001b[39;49m\u001b[43mstorage_options\u001b[49m\u001b[43m,\u001b[49m\n\u001b[0;32m    605\u001b[0m \u001b[43m    \u001b[49m\u001b[43mencoding_errors\u001b[49m\u001b[38;5;241;43m=\u001b[39;49m\u001b[43mencoding_errors\u001b[49m\u001b[43m,\u001b[49m\n\u001b[0;32m    606\u001b[0m \u001b[43m\u001b[49m\u001b[43m)\u001b[49m\n\u001b[0;32m    608\u001b[0m \u001b[38;5;28;01mif\u001b[39;00m chunksize:\n\u001b[0;32m    609\u001b[0m     \u001b[38;5;28;01mreturn\u001b[39;00m json_reader\n",
      "File \u001b[1;32m~\\Anaconda3\\lib\\site-packages\\pandas\\io\\json\\_json.py:673\u001b[0m, in \u001b[0;36mJsonReader.__init__\u001b[1;34m(self, filepath_or_buffer, orient, typ, dtype, convert_axes, convert_dates, keep_default_dates, numpy, precise_float, date_unit, encoding, lines, chunksize, compression, nrows, storage_options, encoding_errors)\u001b[0m\n\u001b[0;32m    670\u001b[0m     \u001b[38;5;28;01mif\u001b[39;00m \u001b[38;5;129;01mnot\u001b[39;00m \u001b[38;5;28mself\u001b[39m\u001b[38;5;241m.\u001b[39mlines:\n\u001b[0;32m    671\u001b[0m         \u001b[38;5;28;01mraise\u001b[39;00m \u001b[38;5;167;01mValueError\u001b[39;00m(\u001b[38;5;124m\"\u001b[39m\u001b[38;5;124mnrows can only be passed if lines=True\u001b[39m\u001b[38;5;124m\"\u001b[39m)\n\u001b[1;32m--> 673\u001b[0m data \u001b[38;5;241m=\u001b[39m \u001b[38;5;28;43mself\u001b[39;49m\u001b[38;5;241;43m.\u001b[39;49m\u001b[43m_get_data_from_filepath\u001b[49m\u001b[43m(\u001b[49m\u001b[43mfilepath_or_buffer\u001b[49m\u001b[43m)\u001b[49m\n\u001b[0;32m    674\u001b[0m \u001b[38;5;28mself\u001b[39m\u001b[38;5;241m.\u001b[39mdata \u001b[38;5;241m=\u001b[39m \u001b[38;5;28mself\u001b[39m\u001b[38;5;241m.\u001b[39m_preprocess_data(data)\n",
      "File \u001b[1;32m~\\Anaconda3\\lib\\site-packages\\pandas\\io\\json\\_json.py:710\u001b[0m, in \u001b[0;36mJsonReader._get_data_from_filepath\u001b[1;34m(self, filepath_or_buffer)\u001b[0m\n\u001b[0;32m    703\u001b[0m filepath_or_buffer \u001b[38;5;241m=\u001b[39m stringify_path(filepath_or_buffer)\n\u001b[0;32m    704\u001b[0m \u001b[38;5;28;01mif\u001b[39;00m (\n\u001b[0;32m    705\u001b[0m     \u001b[38;5;129;01mnot\u001b[39;00m \u001b[38;5;28misinstance\u001b[39m(filepath_or_buffer, \u001b[38;5;28mstr\u001b[39m)\n\u001b[0;32m    706\u001b[0m     \u001b[38;5;129;01mor\u001b[39;00m is_url(filepath_or_buffer)\n\u001b[0;32m    707\u001b[0m     \u001b[38;5;129;01mor\u001b[39;00m is_fsspec_url(filepath_or_buffer)\n\u001b[0;32m    708\u001b[0m     \u001b[38;5;129;01mor\u001b[39;00m file_exists(filepath_or_buffer)\n\u001b[0;32m    709\u001b[0m ):\n\u001b[1;32m--> 710\u001b[0m     \u001b[38;5;28mself\u001b[39m\u001b[38;5;241m.\u001b[39mhandles \u001b[38;5;241m=\u001b[39m \u001b[43mget_handle\u001b[49m\u001b[43m(\u001b[49m\n\u001b[0;32m    711\u001b[0m \u001b[43m        \u001b[49m\u001b[43mfilepath_or_buffer\u001b[49m\u001b[43m,\u001b[49m\n\u001b[0;32m    712\u001b[0m \u001b[43m        \u001b[49m\u001b[38;5;124;43m\"\u001b[39;49m\u001b[38;5;124;43mr\u001b[39;49m\u001b[38;5;124;43m\"\u001b[39;49m\u001b[43m,\u001b[49m\n\u001b[0;32m    713\u001b[0m \u001b[43m        \u001b[49m\u001b[43mencoding\u001b[49m\u001b[38;5;241;43m=\u001b[39;49m\u001b[38;5;28;43mself\u001b[39;49m\u001b[38;5;241;43m.\u001b[39;49m\u001b[43mencoding\u001b[49m\u001b[43m,\u001b[49m\n\u001b[0;32m    714\u001b[0m \u001b[43m        \u001b[49m\u001b[43mcompression\u001b[49m\u001b[38;5;241;43m=\u001b[39;49m\u001b[38;5;28;43mself\u001b[39;49m\u001b[38;5;241;43m.\u001b[39;49m\u001b[43mcompression\u001b[49m\u001b[43m,\u001b[49m\n\u001b[0;32m    715\u001b[0m \u001b[43m        \u001b[49m\u001b[43mstorage_options\u001b[49m\u001b[38;5;241;43m=\u001b[39;49m\u001b[38;5;28;43mself\u001b[39;49m\u001b[38;5;241;43m.\u001b[39;49m\u001b[43mstorage_options\u001b[49m\u001b[43m,\u001b[49m\n\u001b[0;32m    716\u001b[0m \u001b[43m        \u001b[49m\u001b[43merrors\u001b[49m\u001b[38;5;241;43m=\u001b[39;49m\u001b[38;5;28;43mself\u001b[39;49m\u001b[38;5;241;43m.\u001b[39;49m\u001b[43mencoding_errors\u001b[49m\u001b[43m,\u001b[49m\n\u001b[0;32m    717\u001b[0m \u001b[43m    \u001b[49m\u001b[43m)\u001b[49m\n\u001b[0;32m    718\u001b[0m     filepath_or_buffer \u001b[38;5;241m=\u001b[39m \u001b[38;5;28mself\u001b[39m\u001b[38;5;241m.\u001b[39mhandles\u001b[38;5;241m.\u001b[39mhandle\n\u001b[0;32m    720\u001b[0m \u001b[38;5;28;01mreturn\u001b[39;00m filepath_or_buffer\n",
      "File \u001b[1;32m~\\Anaconda3\\lib\\site-packages\\pandas\\io\\common.py:661\u001b[0m, in \u001b[0;36mget_handle\u001b[1;34m(path_or_buf, mode, encoding, compression, memory_map, is_text, errors, storage_options)\u001b[0m\n\u001b[0;32m    658\u001b[0m encoding \u001b[38;5;241m=\u001b[39m encoding \u001b[38;5;129;01mor\u001b[39;00m \u001b[38;5;124m\"\u001b[39m\u001b[38;5;124mutf-8\u001b[39m\u001b[38;5;124m\"\u001b[39m\n\u001b[0;32m    660\u001b[0m \u001b[38;5;66;03m# read_csv does not know whether the buffer is opened in binary/text mode\u001b[39;00m\n\u001b[1;32m--> 661\u001b[0m \u001b[38;5;28;01mif\u001b[39;00m \u001b[43m_is_binary_mode\u001b[49m\u001b[43m(\u001b[49m\u001b[43mpath_or_buf\u001b[49m\u001b[43m,\u001b[49m\u001b[43m \u001b[49m\u001b[43mmode\u001b[49m\u001b[43m)\u001b[49m \u001b[38;5;129;01mand\u001b[39;00m \u001b[38;5;124m\"\u001b[39m\u001b[38;5;124mb\u001b[39m\u001b[38;5;124m\"\u001b[39m \u001b[38;5;129;01mnot\u001b[39;00m \u001b[38;5;129;01min\u001b[39;00m mode:\n\u001b[0;32m    662\u001b[0m     mode \u001b[38;5;241m+\u001b[39m\u001b[38;5;241m=\u001b[39m \u001b[38;5;124m\"\u001b[39m\u001b[38;5;124mb\u001b[39m\u001b[38;5;124m\"\u001b[39m\n\u001b[0;32m    664\u001b[0m \u001b[38;5;66;03m# validate encoding and errors\u001b[39;00m\n",
      "File \u001b[1;32m~\\Anaconda3\\lib\\site-packages\\pandas\\io\\common.py:1128\u001b[0m, in \u001b[0;36m_is_binary_mode\u001b[1;34m(handle, mode)\u001b[0m\n\u001b[0;32m   1125\u001b[0m \u001b[38;5;28;01mif\u001b[39;00m \u001b[38;5;28missubclass\u001b[39m(\u001b[38;5;28mtype\u001b[39m(handle), text_classes):\n\u001b[0;32m   1126\u001b[0m     \u001b[38;5;28;01mreturn\u001b[39;00m \u001b[38;5;28;01mFalse\u001b[39;00m\n\u001b[1;32m-> 1128\u001b[0m \u001b[38;5;28;01mreturn\u001b[39;00m \u001b[38;5;28misinstance\u001b[39m(handle, _get_binary_io_classes()) \u001b[38;5;129;01mor\u001b[39;00m \u001b[38;5;124;43m\"\u001b[39;49m\u001b[38;5;124;43mb\u001b[39;49m\u001b[38;5;124;43m\"\u001b[39;49m\u001b[43m \u001b[49m\u001b[38;5;129;43;01min\u001b[39;49;00m\u001b[43m \u001b[49m\u001b[38;5;28;43mgetattr\u001b[39;49m\u001b[43m(\u001b[49m\n\u001b[0;32m   1129\u001b[0m \u001b[43m    \u001b[49m\u001b[43mhandle\u001b[49m\u001b[43m,\u001b[49m\u001b[43m \u001b[49m\u001b[38;5;124;43m\"\u001b[39;49m\u001b[38;5;124;43mmode\u001b[39;49m\u001b[38;5;124;43m\"\u001b[39;49m\u001b[43m,\u001b[49m\u001b[43m \u001b[49m\u001b[43mmode\u001b[49m\n\u001b[0;32m   1130\u001b[0m \u001b[43m\u001b[49m\u001b[43m)\u001b[49m\n",
      "\u001b[1;31mTypeError\u001b[0m: argument of type 'method' is not iterable"
     ]
    }
   ],
   "source": [
    "df=pd.read_json(_, orient='split')"
   ]
  },
  {
   "cell_type": "code",
   "execution_count": 21,
   "id": "d530db60",
   "metadata": {},
   "outputs": [
    {
     "data": {
      "text/plain": [
       "'{\"name\":\"Max Schwarzmueller\",\"age\":29}\\n{\"name\":\"Manu Lorenz\",\"age\":30}\\n{\"name\":\"Chris Hayton\",\"age\":35}\\n{\"name\":\"Sandeep Kumar\",\"age\":28}\\n{\"name\":\"Maria Jones\",\"age\":30}\\n{\"name\":\"Alexandra Maier\",\"age\":27}\\n{\"name\":\"Dr. Phil Evans\",\"age\":47}\\n{\"name\":\"Sandra Brugge\",\"age\":33}\\n{\"name\":\"Elisabeth Mayr\",\"age\":29}\\n{\"name\":\"Frank Cube\",\"age\":41}\\n{\"name\":\"Karandeep Alun\",\"age\":48}\\n{\"name\":\"Michaela Drayer\",\"age\":39}\\n{\"name\":\"Bernd Hoftstadt\",\"age\":22}\\n{\"name\":\"Scott Tolib\",\"age\":44}\\n{\"name\":\"Freddy Melver\",\"age\":41}\\n{\"name\":\"Alexis Bohed\",\"age\":35}\\n{\"name\":\"Melanie Palace\",\"age\":27}\\n{\"name\":\"Armin Glutch\",\"age\":35}\\n{\"name\":\"Klaus Arber\",\"age\":53}\\n{\"name\":\"Albert Twostone\",\"age\":68}\\n{\"name\":\"Gordon Black\",\"age\":38}\\n'"
      ]
     },
     "execution_count": 21,
     "metadata": {},
     "output_type": "execute_result"
    }
   ],
   "source": [
    "df.to_json(orient='records',lines=True)"
   ]
  },
  {
   "cell_type": "code",
   "execution_count": 22,
   "id": "f681db1f",
   "metadata": {},
   "outputs": [
    {
     "data": {
      "text/html": [
       "<div>\n",
       "<style scoped>\n",
       "    .dataframe tbody tr th:only-of-type {\n",
       "        vertical-align: middle;\n",
       "    }\n",
       "\n",
       "    .dataframe tbody tr th {\n",
       "        vertical-align: top;\n",
       "    }\n",
       "\n",
       "    .dataframe thead th {\n",
       "        text-align: right;\n",
       "    }\n",
       "</style>\n",
       "<table border=\"1\" class=\"dataframe\">\n",
       "  <thead>\n",
       "    <tr style=\"text-align: right;\">\n",
       "      <th></th>\n",
       "      <th>name</th>\n",
       "      <th>age</th>\n",
       "    </tr>\n",
       "  </thead>\n",
       "  <tbody>\n",
       "    <tr>\n",
       "      <th>0</th>\n",
       "      <td>Max Schwarzmueller</td>\n",
       "      <td>29</td>\n",
       "    </tr>\n",
       "    <tr>\n",
       "      <th>1</th>\n",
       "      <td>Manu Lorenz</td>\n",
       "      <td>30</td>\n",
       "    </tr>\n",
       "    <tr>\n",
       "      <th>2</th>\n",
       "      <td>Chris Hayton</td>\n",
       "      <td>35</td>\n",
       "    </tr>\n",
       "    <tr>\n",
       "      <th>3</th>\n",
       "      <td>Sandeep Kumar</td>\n",
       "      <td>28</td>\n",
       "    </tr>\n",
       "    <tr>\n",
       "      <th>4</th>\n",
       "      <td>Maria Jones</td>\n",
       "      <td>30</td>\n",
       "    </tr>\n",
       "    <tr>\n",
       "      <th>5</th>\n",
       "      <td>Alexandra Maier</td>\n",
       "      <td>27</td>\n",
       "    </tr>\n",
       "    <tr>\n",
       "      <th>6</th>\n",
       "      <td>Dr. Phil Evans</td>\n",
       "      <td>47</td>\n",
       "    </tr>\n",
       "    <tr>\n",
       "      <th>7</th>\n",
       "      <td>Sandra Brugge</td>\n",
       "      <td>33</td>\n",
       "    </tr>\n",
       "    <tr>\n",
       "      <th>8</th>\n",
       "      <td>Elisabeth Mayr</td>\n",
       "      <td>29</td>\n",
       "    </tr>\n",
       "    <tr>\n",
       "      <th>9</th>\n",
       "      <td>Frank Cube</td>\n",
       "      <td>41</td>\n",
       "    </tr>\n",
       "    <tr>\n",
       "      <th>10</th>\n",
       "      <td>Karandeep Alun</td>\n",
       "      <td>48</td>\n",
       "    </tr>\n",
       "    <tr>\n",
       "      <th>11</th>\n",
       "      <td>Michaela Drayer</td>\n",
       "      <td>39</td>\n",
       "    </tr>\n",
       "    <tr>\n",
       "      <th>12</th>\n",
       "      <td>Bernd Hoftstadt</td>\n",
       "      <td>22</td>\n",
       "    </tr>\n",
       "    <tr>\n",
       "      <th>13</th>\n",
       "      <td>Scott Tolib</td>\n",
       "      <td>44</td>\n",
       "    </tr>\n",
       "    <tr>\n",
       "      <th>14</th>\n",
       "      <td>Freddy Melver</td>\n",
       "      <td>41</td>\n",
       "    </tr>\n",
       "    <tr>\n",
       "      <th>15</th>\n",
       "      <td>Alexis Bohed</td>\n",
       "      <td>35</td>\n",
       "    </tr>\n",
       "    <tr>\n",
       "      <th>16</th>\n",
       "      <td>Melanie Palace</td>\n",
       "      <td>27</td>\n",
       "    </tr>\n",
       "    <tr>\n",
       "      <th>17</th>\n",
       "      <td>Armin Glutch</td>\n",
       "      <td>35</td>\n",
       "    </tr>\n",
       "    <tr>\n",
       "      <th>18</th>\n",
       "      <td>Klaus Arber</td>\n",
       "      <td>53</td>\n",
       "    </tr>\n",
       "    <tr>\n",
       "      <th>19</th>\n",
       "      <td>Albert Twostone</td>\n",
       "      <td>68</td>\n",
       "    </tr>\n",
       "    <tr>\n",
       "      <th>20</th>\n",
       "      <td>Gordon Black</td>\n",
       "      <td>38</td>\n",
       "    </tr>\n",
       "  </tbody>\n",
       "</table>\n",
       "</div>"
      ],
      "text/plain": [
       "                  name  age\n",
       "0   Max Schwarzmueller   29\n",
       "1          Manu Lorenz   30\n",
       "2         Chris Hayton   35\n",
       "3        Sandeep Kumar   28\n",
       "4          Maria Jones   30\n",
       "5      Alexandra Maier   27\n",
       "6       Dr. Phil Evans   47\n",
       "7        Sandra Brugge   33\n",
       "8       Elisabeth Mayr   29\n",
       "9           Frank Cube   41\n",
       "10      Karandeep Alun   48\n",
       "11     Michaela Drayer   39\n",
       "12     Bernd Hoftstadt   22\n",
       "13         Scott Tolib   44\n",
       "14       Freddy Melver   41\n",
       "15        Alexis Bohed   35\n",
       "16      Melanie Palace   27\n",
       "17        Armin Glutch   35\n",
       "18         Klaus Arber   53\n",
       "19     Albert Twostone   68\n",
       "20        Gordon Black   38"
      ]
     },
     "execution_count": 22,
     "metadata": {},
     "output_type": "execute_result"
    }
   ],
   "source": [
    "pd.read_json(_, lines=True)"
   ]
  },
  {
   "cell_type": "code",
   "execution_count": 12,
   "id": "d8bfbd69",
   "metadata": {},
   "outputs": [],
   "source": [
    "import json"
   ]
  },
  {
   "cell_type": "code",
   "execution_count": 19,
   "id": "841cfe29",
   "metadata": {},
   "outputs": [],
   "source": [
    "people_string='''\n",
    "{\n",
    "\"people\" :[\n",
    "{\n",
    "\"emp_name\": \"John parker\",\n",
    "\"emp_no. \" : \"12334\",\n",
    "\"emp_email\" :[\"johnparker@dummyemail.com\"],\n",
    "\"has license\" : \"false\"\n",
    "},\n",
    "{\n",
    "\"emp_name\" : \"Harshit kant\",\n",
    "\"emp_no. \" :\"3445\",\n",
    "\"emp_email\" :\"null\",\n",
    "\"has license\":\"true\"\n",
    "}]}'''"
   ]
  },
  {
   "cell_type": "code",
   "execution_count": 21,
   "id": "4e1ad5c8",
   "metadata": {},
   "outputs": [],
   "source": [
    "data= json.loads(people_string)"
   ]
  },
  {
   "cell_type": "code",
   "execution_count": 24,
   "id": "8c495304",
   "metadata": {},
   "outputs": [
    {
     "name": "stdout",
     "output_type": "stream",
     "text": [
      "<class 'dict'>\n"
     ]
    }
   ],
   "source": [
    "print(type(data))##this code will treat this as a dict"
   ]
  },
  {
   "cell_type": "code",
   "execution_count": 25,
   "id": "72ad46d2",
   "metadata": {},
   "outputs": [],
   "source": [
    "###to change in to list"
   ]
  },
  {
   "cell_type": "code",
   "execution_count": 27,
   "id": "132403ba",
   "metadata": {},
   "outputs": [
    {
     "name": "stdout",
     "output_type": "stream",
     "text": [
      "<class 'list'>\n"
     ]
    }
   ],
   "source": [
    "print(type(data[\"people\"]))##now you can iterate over the data"
   ]
  },
  {
   "cell_type": "code",
   "execution_count": 28,
   "id": "37b1c381",
   "metadata": {},
   "outputs": [
    {
     "name": "stdout",
     "output_type": "stream",
     "text": [
      "John parker ['johnparker@dummyemail.com']\n",
      "Harshit kant null\n"
     ]
    }
   ],
   "source": [
    "for person in data['people']:\n",
    "    print(person[\"emp_name\"],person[\"emp_email\"])"
   ]
  },
  {
   "cell_type": "code",
   "execution_count": 29,
   "id": "61c22916",
   "metadata": {},
   "outputs": [],
   "source": [
    "###to deleteb the values "
   ]
  },
  {
   "cell_type": "code",
   "execution_count": 30,
   "id": "4fb6f8f6",
   "metadata": {},
   "outputs": [],
   "source": [
    "data= json.loads(people_string)"
   ]
  },
  {
   "cell_type": "code",
   "execution_count": 31,
   "id": "352df811",
   "metadata": {},
   "outputs": [
    {
     "data": {
      "text/plain": [
       "{'people': [{'emp_name': 'John parker',\n",
       "   'emp_no. ': '12334',\n",
       "   'emp_email': ['johnparker@dummyemail.com'],\n",
       "   'has license': 'false'},\n",
       "  {'emp_name': 'Harshit kant',\n",
       "   'emp_no. ': '3445',\n",
       "   'emp_email': 'null',\n",
       "   'has license': 'true'}]}"
      ]
     },
     "execution_count": 31,
     "metadata": {},
     "output_type": "execute_result"
    }
   ],
   "source": [
    "data"
   ]
  },
  {
   "cell_type": "code",
   "execution_count": 40,
   "id": "34657c37",
   "metadata": {
    "collapsed": true
   },
   "outputs": [
    {
     "ename": "KeyError",
     "evalue": "'emp_email'",
     "output_type": "error",
     "traceback": [
      "\u001b[1;31m---------------------------------------------------------------------------\u001b[0m",
      "\u001b[1;31mKeyError\u001b[0m                                  Traceback (most recent call last)",
      "Input \u001b[1;32mIn [40]\u001b[0m, in \u001b[0;36m<cell line: 1>\u001b[1;34m()\u001b[0m\n\u001b[0;32m      1\u001b[0m \u001b[38;5;28;01mfor\u001b[39;00m person \u001b[38;5;129;01min\u001b[39;00m data[\u001b[38;5;124m'\u001b[39m\u001b[38;5;124mpeople\u001b[39m\u001b[38;5;124m'\u001b[39m]:\n\u001b[1;32m----> 2\u001b[0m     \u001b[38;5;28;01mdel\u001b[39;00m person[\u001b[38;5;124m\"\u001b[39m\u001b[38;5;124memp_email\u001b[39m\u001b[38;5;124m\"\u001b[39m]\n",
      "\u001b[1;31mKeyError\u001b[0m: 'emp_email'"
     ]
    }
   ],
   "source": [
    "for person in data['people']:\n",
    "    del person[\"emp_email\"]"
   ]
  },
  {
   "cell_type": "code",
   "execution_count": 35,
   "id": "48bdd38a",
   "metadata": {},
   "outputs": [
    {
     "data": {
      "text/plain": [
       "{'people': [{'emp_name': 'John parker',\n",
       "   'emp_no. ': '12334',\n",
       "   'has license': 'false'},\n",
       "  {'emp_name': 'Harshit kant', 'emp_no. ': '3445', 'has license': 'true'}]}"
      ]
     },
     "execution_count": 35,
     "metadata": {},
     "output_type": "execute_result"
    }
   ],
   "source": [
    "data"
   ]
  },
  {
   "cell_type": "code",
   "execution_count": 41,
   "id": "ae9bc119",
   "metadata": {},
   "outputs": [
    {
     "name": "stdout",
     "output_type": "stream",
     "text": [
      "<class 'str'>\n"
     ]
    }
   ],
   "source": [
    "new_string=json.dumps(data)\n",
    "print(type(new_string))"
   ]
  },
  {
   "cell_type": "code",
   "execution_count": 43,
   "id": "f7ff83ec",
   "metadata": {},
   "outputs": [
    {
     "name": "stdout",
     "output_type": "stream",
     "text": [
      "{\"people\": [{\"emp_name\": \"John parker\", \"emp_no. \": \"12334\", \"has license\": \"false\"}, {\"emp_name\": \"Harshit kant\", \"emp_no. \": \"3445\", \"has license\": \"true\"}]}\n"
     ]
    }
   ],
   "source": [
    "print(new_string)"
   ]
  },
  {
   "cell_type": "code",
   "execution_count": 44,
   "id": "a6b5690d",
   "metadata": {},
   "outputs": [],
   "source": [
    "###pretty printing"
   ]
  },
  {
   "cell_type": "code",
   "execution_count": 45,
   "id": "35ab670f",
   "metadata": {},
   "outputs": [],
   "source": [
    "import json"
   ]
  },
  {
   "cell_type": "code",
   "execution_count": 46,
   "id": "d3182a21",
   "metadata": {},
   "outputs": [],
   "source": [
    "people_string='''\n",
    "{\n",
    "\"people\" :[\n",
    "{\n",
    "\"emp_name\": \"John parker\",\n",
    "\"emp_no. \" : \"12334\",\n",
    "\"emp_email\" :[\"johnparker@dummyemail.com\"],\n",
    "\"has license\" : \"false\"\n",
    "},\n",
    "{\n",
    "\"emp_name\" : \"Harshit kant\",\n",
    "\"emp_no. \" :\"3445\",\n",
    "\"emp_email\" :\"null\",\n",
    "\"has license\":\"true\"\n",
    "}]}'''"
   ]
  },
  {
   "cell_type": "code",
   "execution_count": 47,
   "id": "2b9380c4",
   "metadata": {},
   "outputs": [],
   "source": [
    "data= json.loads(people_string)"
   ]
  },
  {
   "cell_type": "code",
   "execution_count": 48,
   "id": "ad43f1ed",
   "metadata": {},
   "outputs": [],
   "source": [
    "for person in data['people']:\n",
    "    del person[\"emp_no. \"]"
   ]
  },
  {
   "cell_type": "code",
   "execution_count": 49,
   "id": "dff65f2e",
   "metadata": {},
   "outputs": [
    {
     "name": "stdout",
     "output_type": "stream",
     "text": [
      "{\n",
      "  \"people\": [\n",
      "    {\n",
      "      \"emp_email\": [\n",
      "        \"johnparker@dummyemail.com\"\n",
      "      ],\n",
      "      \"emp_name\": \"John parker\",\n",
      "      \"has license\": \"false\"\n",
      "    },\n",
      "    {\n",
      "      \"emp_email\": \"null\",\n",
      "      \"emp_name\": \"Harshit kant\",\n",
      "      \"has license\": \"true\"\n",
      "    }\n",
      "  ]\n",
      "}\n"
     ]
    }
   ],
   "source": [
    "new_string=json.dumps(data,indent=2,sort_keys=True)\n",
    "print(new_string)"
   ]
  },
  {
   "cell_type": "code",
   "execution_count": null,
   "id": "bbc598f3",
   "metadata": {},
   "outputs": [],
   "source": []
  }
 ],
 "metadata": {
  "kernelspec": {
   "display_name": "Python 3 (ipykernel)",
   "language": "python",
   "name": "python3"
  },
  "language_info": {
   "codemirror_mode": {
    "name": "ipython",
    "version": 3
   },
   "file_extension": ".py",
   "mimetype": "text/x-python",
   "name": "python",
   "nbconvert_exporter": "python",
   "pygments_lexer": "ipython3",
   "version": "3.9.12"
  }
 },
 "nbformat": 4,
 "nbformat_minor": 5
}
