{
 "cells": [
  {
   "cell_type": "code",
   "execution_count": 15,
   "id": "44734f6c",
   "metadata": {},
   "outputs": [
    {
     "name": "stdout",
     "output_type": "stream",
     "text": [
      "[1, 3, 5, 7, 9]\n"
     ]
    }
   ],
   "source": [
    "a=[1,2,3,4,5,6,7,8,9]\n",
    "print(a[::2])"
   ]
  },
  {
   "cell_type": "code",
   "execution_count": 29,
   "id": "19b4d4e2",
   "metadata": {},
   "outputs": [
    {
     "name": "stdout",
     "output_type": "stream",
     "text": [
      "[10, 2, 20, 4, 30, 6, 40, 8, 50]\n"
     ]
    }
   ],
   "source": [
    "a=[1,2,3,4,5,6,7,8,9]\n",
    "a[::2]=10,20,30,40,50\n",
    "print(a)"
   ]
  },
  {
   "cell_type": "code",
   "execution_count": 3,
   "id": "348a1d6b",
   "metadata": {},
   "outputs": [
    {
     "name": "stdout",
     "output_type": "stream",
     "text": [
      "[4, 3, 2]\n"
     ]
    }
   ],
   "source": [
    "a=[1,2,3,4,5]\n",
    "print(a[3:0:-1])\n",
    "# A. Syntax error\n",
    "# B. [4, 3, 2]\n",
    "# C. [4, 3]\n",
    "# D. [4, 3, 2, 1]"
   ]
  },
  {
   "cell_type": "code",
   "execution_count": 6,
   "id": "ee5a55b4",
   "metadata": {},
   "outputs": [
    {
     "name": "stdout",
     "output_type": "stream",
     "text": [
      "[1, 2, 3]\n"
     ]
    }
   ],
   "source": [
    "a=[1,2,3,4,5]\n",
    "print(a[0:3])"
   ]
  },
  {
   "cell_type": "code",
   "execution_count": 8,
   "id": "f92ab2ad",
   "metadata": {},
   "outputs": [
    {
     "name": "stdout",
     "output_type": "stream",
     "text": [
      "3 44\n"
     ]
    }
   ],
   "source": [
    "# Q-4. What will be the output of the following code snippet?\n",
    "\n",
    "def f(value, values):\n",
    "    v = 1\n",
    "    values[0] = 44\n",
    "t = 3\n",
    "v = [1, 2, 3]\n",
    "f(t, v)\n",
    "print(t, v[0])\n",
    "# A. 1 44\n",
    "# B. 3 1\n",
    "# C. 3 44\n",
    "# D. 1 1"
   ]
  },
  {
   "cell_type": "code",
   "execution_count": 26,
   "id": "698c06d8",
   "metadata": {},
   "outputs": [
    {
     "ename": "NameError",
     "evalue": "name 'random' is not defined",
     "output_type": "error",
     "traceback": [
      "\u001b[1;31m---------------------------------------------------------------------------\u001b[0m",
      "\u001b[1;31mNameError\u001b[0m                                 Traceback (most recent call last)",
      "Input \u001b[1;32mIn [26]\u001b[0m, in \u001b[0;36m<cell line: 6>\u001b[1;34m()\u001b[0m\n\u001b[0;32m      3\u001b[0m fruit\u001b[38;5;241m=\u001b[39m[\u001b[38;5;124m'\u001b[39m\u001b[38;5;124mapple\u001b[39m\u001b[38;5;124m'\u001b[39m, \u001b[38;5;124m'\u001b[39m\u001b[38;5;124mbanana\u001b[39m\u001b[38;5;124m'\u001b[39m, \u001b[38;5;124m'\u001b[39m\u001b[38;5;124mpapaya\u001b[39m\u001b[38;5;124m'\u001b[39m, \u001b[38;5;124m'\u001b[39m\u001b[38;5;124mcherry\u001b[39m\u001b[38;5;124m'\u001b[39m]\n\u001b[0;32m      4\u001b[0m \u001b[38;5;66;03m##fruit.shuffle()\u001b[39;00m\n\u001b[0;32m      5\u001b[0m \u001b[38;5;66;03m##shuffle(fruit)\u001b[39;00m\n\u001b[1;32m----> 6\u001b[0m \u001b[43mrandom\u001b[49m\u001b[38;5;241m.\u001b[39mshuffle(fruit)\n",
      "\u001b[1;31mNameError\u001b[0m: name 'random' is not defined"
     ]
    }
   ],
   "source": [
    "# Q-5. What is the correct command to shuffle the following list?\n",
    "\n",
    "fruit=['apple', 'banana', 'papaya', 'cherry']\n",
    "##fruit.shuffle()\n",
    "##shuffle(fruit)\n",
    "random.shuffle(fruit)\n",
    "##random.shuffleList(fruit)"
   ]
  },
  {
   "cell_type": "code",
   "execution_count": 15,
   "id": "b8071128",
   "metadata": {},
   "outputs": [
    {
     "name": "stdout",
     "output_type": "stream",
     "text": [
      "4\n"
     ]
    }
   ],
   "source": [
    "# Q-6. What will be the output of the following code snippet?\n",
    "\n",
    "data = [[[1, 2], [3, 4]], [[5, 6], [7, 8]]]\n",
    "def fun(m):\n",
    "    v = m[0][0]\n",
    "\n",
    "    for row in m:\n",
    "        for element in row:\n",
    "            if v < element: v = element\n",
    "\n",
    "    return v\n",
    "print(fun(data[0]))\n",
    "# A. 1\n",
    "# B. 2\n",
    "# C. 3 \n",
    "# D. 4\n",
    "# E. 5\n",
    "# F. 6\n"
   ]
  },
  {
   "cell_type": "code",
   "execution_count": 10,
   "id": "00da8fbd",
   "metadata": {},
   "outputs": [
    {
     "data": {
      "text/plain": [
       "[[1, 2], [3, 4]]"
      ]
     },
     "execution_count": 10,
     "metadata": {},
     "output_type": "execute_result"
    }
   ],
   "source": [
    "data = [[[1, 2], [3, 4]], [[5, 6], [7, 8]]]\n",
    "data[0]"
   ]
  },
  {
   "cell_type": "code",
   "execution_count": 11,
   "id": "79a91bc9",
   "metadata": {},
   "outputs": [
    {
     "name": "stdout",
     "output_type": "stream",
     "text": [
      "1\n"
     ]
    }
   ],
   "source": [
    "m=data[0]\n",
    "v=m[0][0]\n",
    "print(v)"
   ]
  },
  {
   "cell_type": "code",
   "execution_count": 14,
   "id": "e4669aef",
   "metadata": {},
   "outputs": [
    {
     "name": "stdout",
     "output_type": "stream",
     "text": [
      "1\n",
      "2\n",
      "3\n",
      "4\n"
     ]
    }
   ],
   "source": [
    "m=data[0]\n",
    "for row in m:\n",
    "    for element in row:\n",
    "        print(element)\n",
    "    "
   ]
  },
  {
   "cell_type": "code",
   "execution_count": 2,
   "id": "e4809c55",
   "metadata": {},
   "outputs": [
    {
     "name": "stdout",
     "output_type": "stream",
     "text": [
      "4\n",
      "7\n",
      "11\n",
      "15\n"
     ]
    }
   ],
   "source": [
    "# Q-7. What will be the output of the following code snippet?\n",
    "\n",
    "arr = [[1, 2, 3, 4],\n",
    "       [4, 5, 6, 7],\n",
    "       [8, 9, 10, 11],\n",
    "       [12, 13, 14, 15]]\n",
    "for i in range(0, 4):\n",
    "    print(arr[i].pop())\n",
    "# A. 1 2 3 4\n",
    "# B. 1 4 8 12\n",
    "# C. 4 7 11 15 \n",
    "# D. 12,13,14,15"
   ]
  },
  {
   "cell_type": "code",
   "execution_count": 31,
   "id": "f3efe408",
   "metadata": {},
   "outputs": [
    {
     "name": "stdout",
     "output_type": "stream",
     "text": [
      "[12, 13, 14]\n"
     ]
    }
   ],
   "source": [
    "print(arr[i])"
   ]
  },
  {
   "cell_type": "code",
   "execution_count": 33,
   "id": "fb09efea",
   "metadata": {},
   "outputs": [
    {
     "name": "stdout",
     "output_type": "stream",
     "text": [
      "1\n",
      "2\n",
      "3\n",
      "4\n"
     ]
    }
   ],
   "source": [
    "d=[1,2,3,4,5,6]\n",
    "for i in range(0,4):\n",
    "    print(d[i])"
   ]
  },
  {
   "cell_type": "code",
   "execution_count": 8,
   "id": "684b88da",
   "metadata": {},
   "outputs": [
    {
     "name": "stdout",
     "output_type": "stream",
     "text": [
      "[1]\n",
      "[1, 2]\n",
      "[1, 2, 3]\n"
     ]
    },
    {
     "data": {
      "text/plain": [
       "[1, 2, 3]"
      ]
     },
     "execution_count": 8,
     "metadata": {},
     "output_type": "execute_result"
    }
   ],
   "source": [
    "# Q-8. What will be the output of the following code snippet?\n",
    "values=[]\n",
    "def f(i):\n",
    "    values.append(i)\n",
    "    print (values)\n",
    "    return values\n",
    "f(1)\n",
    "f(2)\n",
    "f(3)\n",
    "# A. [1] [2] [3]\n",
    "# B. [1, 2, 3]\n",
    "# C. [1] [1, 2] [1, 2, 3]\n",
    "# D. 1 2 3"
   ]
  },
  {
   "cell_type": "code",
   "execution_count": 2,
   "id": "3e3f7b1c",
   "metadata": {},
   "outputs": [
    {
     "name": "stdout",
     "output_type": "stream",
     "text": [
      "2 3 4 5 6 6 "
     ]
    }
   ],
   "source": [
    "# Q-9. What will be the output of the following code snippet?\n",
    "\n",
    "arr = [1, 2, 3, 4, 5, 6]\n",
    "for i in range(1, 6):\n",
    "    arr[i - 1] = arr[i]\n",
    "for i in range(0, 6): \n",
    "    print(arr[i], end= \" \")\n",
    "# A. 1 2 3 4 5 6\n",
    "# B. 2 3 4 5 6 1\n",
    "# C. 1 1 2 3 4 5 \n",
    "# D. 2 3 4 5 6 6"
   ]
  },
  {
   "cell_type": "code",
   "execution_count": 3,
   "id": "40bdd554",
   "metadata": {},
   "outputs": [
    {
     "name": "stdout",
     "output_type": "stream",
     "text": [
      "1\n",
      "2\n",
      "3\n",
      "4\n",
      "5\n"
     ]
    }
   ],
   "source": [
    "arr = [1, 2, 3, 4, 5, 6]\n",
    "for i in range(1, 6):\n",
    "    #arr[i-1]= arr[i]\n",
    "    print(arr[i-1])"
   ]
  },
  {
   "cell_type": "code",
   "execution_count": 48,
   "id": "ad57aadd",
   "metadata": {},
   "outputs": [
    {
     "name": "stdout",
     "output_type": "stream",
     "text": [
      "2 3 4 5 6 6 "
     ]
    }
   ],
   "source": [
    "for i in range(0, 6): \n",
    "    print(arr[i],end = \" \")"
   ]
  },
  {
   "cell_type": "code",
   "execution_count": 23,
   "id": "4d7e5c30",
   "metadata": {},
   "outputs": [
    {
     "name": "stdout",
     "output_type": "stream",
     "text": [
      "Milk+\n",
      "Cheese+\n",
      "Butter+\n"
     ]
    }
   ],
   "source": [
    "# Accessing/Traversing the list\n",
    "\n",
    "shoppingList = ['Milk', 'Cheese', 'Butter']\n",
    "\n",
    "for i in range(len(shoppingList)):\n",
    "    shoppingList[i] = shoppingList[i]+\"+\"\n",
    "    print(shoppingList[i])\n",
    "empty = []\n",
    "for i in empty:\n",
    "    print(\"I am empty\")"
   ]
  },
  {
   "cell_type": "code",
   "execution_count": 20,
   "id": "57591a07",
   "metadata": {},
   "outputs": [
    {
     "name": "stdout",
     "output_type": "stream",
     "text": [
      "[1, 2, 3, 4, 5, 6, 7, 11, 12, 13, 14]\n"
     ]
    }
   ],
   "source": [
    "myList = [1,2,3,4,5,6,7]\n",
    "##print(myList)\n",
    "#myList.insert(4,15)\n",
    "# myList.append(55)\n",
    "newList = [11,12,13,14]\n",
    "myList.extend(newList)\n",
    "print(myList)"
   ]
  },
  {
   "cell_type": "code",
   "execution_count": 61,
   "id": "e784a411",
   "metadata": {},
   "outputs": [
    {
     "name": "stdout",
     "output_type": "stream",
     "text": [
      "0\n"
     ]
    }
   ],
   "source": [
    "#  Searching for an element in the List\n",
    "myList =  [10,20,30,40,50,60,70,80,90]\n",
    "\n",
    "def searchinList(list, value):\n",
    "    for i in list:\n",
    "        if i == value:\n",
    "            return list.index(value)\n",
    "    return 'The value does not exist in the list'\n",
    "\n",
    "print(searchinList(myList, 10))"
   ]
  },
  {
   "cell_type": "code",
   "execution_count": 63,
   "id": "fcd31e8d",
   "metadata": {},
   "outputs": [
    {
     "name": "stdout",
     "output_type": "stream",
     "text": [
      "Enter a number: 54.5\n",
      "Enter a number: 435\n",
      "Enter a number: 423\n",
      "Enter a number: 45\n",
      "Enter a number: done\n",
      "Average: 239.375\n"
     ]
    }
   ],
   "source": [
    "#  List operations / functions\n",
    "total = 0 \n",
    "count = 0\n",
    "while (True):\n",
    "    inp = input('Enter a number: ') \n",
    "    if inp == 'done': break\n",
    "    value = float(inp)\n",
    "    total = total + value\n",
    "    count = count + 1 \n",
    "    average = total / count\n",
    "\t\t\t\t\t\n",
    "print('Average:', average)"
   ]
  },
  {
   "cell_type": "code",
   "execution_count": 11,
   "id": "bbca11cc",
   "metadata": {},
   "outputs": [
    {
     "name": "stdout",
     "output_type": "stream",
     "text": [
      "Enter a number: 845\n",
      "Enter a number: 8573\n",
      "Enter a number: done\n",
      "Average: 4709.0\n"
     ]
    }
   ],
   "source": [
    "numlist = list()\n",
    "while (True):\n",
    "    inp = input('Enter a number: ') \n",
    "    if inp == 'done': break\n",
    "    value = float(inp)\n",
    "    numlist.append(value)\n",
    "\t\t\t\t\t\n",
    "average = sum(numlist) / len(numlist) \n",
    "print('Average:', average)"
   ]
  },
  {
   "cell_type": "code",
   "execution_count": null,
   "id": "209b2c08",
   "metadata": {},
   "outputs": [],
   "source": []
  }
 ],
 "metadata": {
  "kernelspec": {
   "display_name": "Python 3 (ipykernel)",
   "language": "python",
   "name": "python3"
  },
  "language_info": {
   "codemirror_mode": {
    "name": "ipython",
    "version": 3
   },
   "file_extension": ".py",
   "mimetype": "text/x-python",
   "name": "python",
   "nbconvert_exporter": "python",
   "pygments_lexer": "ipython3",
   "version": "3.9.12"
  }
 },
 "nbformat": 4,
 "nbformat_minor": 5
}
