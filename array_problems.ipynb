{
 "cells": [
  {
   "cell_type": "code",
   "execution_count": 1,
   "id": "59a9e755",
   "metadata": {},
   "outputs": [
    {
     "name": "stdout",
     "output_type": "stream",
     "text": [
      "1\n",
      "4\n",
      "9\n",
      "16\n",
      "25\n"
     ]
    }
   ],
   "source": [
    "listed=[1,2,3,4,5]##find the square of a list values\n",
    "for i in listed:\n",
    "    print(i**2)\n",
    "         \n",
    "         \n",
    "\n"
   ]
  },
  {
   "cell_type": "code",
   "execution_count": 14,
   "id": "4b6a930f",
   "metadata": {},
   "outputs": [
    {
     "name": "stdout",
     "output_type": "stream",
     "text": [
      "[20, 40]\n"
     ]
    }
   ],
   "source": [
    "import pandas as  pd\n",
    "lis=[\"I love\",20,30,20,40,40,50]###find the duplicates of a list of values\n",
    "\n",
    "res=[]\n",
    "\n",
    "for i in lis:\n",
    "    if lis.count(i)>1 and i not in res:\n",
    "        res.append(i)\n",
    "        \n",
    "print(res)"
   ]
  },
  {
   "cell_type": "code",
   "execution_count": 33,
   "id": "a3a16e3a",
   "metadata": {},
   "outputs": [
    {
     "name": "stdout",
     "output_type": "stream",
     "text": [
      "[1, 4]\n"
     ]
    }
   ],
   "source": [
    "lis=[\"I love\",20,30,20,40,40,50]\n",
    "\n",
    "res=[]\n",
    "\n",
    "for i in range(len(lis)):\n",
    "    for j in range(i+1,len(lis)):\n",
    "        if lis[i]==lis[j]and i not in res:\n",
    "            res.append(i)\n",
    "print(res)                "
   ]
  },
  {
   "cell_type": "code",
   "execution_count": 36,
   "id": "7ac6a836",
   "metadata": {},
   "outputs": [
    {
     "name": "stdout",
     "output_type": "stream",
     "text": [
      "[0, 2, 5]\n"
     ]
    }
   ],
   "source": [
    "lis=[10,10,20,30,20,40,40,50]\n",
    "\n",
    "res=[]\n",
    "\n",
    "for i in range(len(lis)):\n",
    "    for j in range(i+1,len(lis)):\n",
    "        if lis[i]==lis[j] and i not in res:\n",
    "            res.append(i)\n",
    "print(res)                "
   ]
  },
  {
   "cell_type": "code",
   "execution_count": 49,
   "id": "d7877acd",
   "metadata": {},
   "outputs": [
    {
     "name": "stdout",
     "output_type": "stream",
     "text": [
      "2\n"
     ]
    }
   ],
   "source": [
    "##write a python program to count number of items having list as values\n",
    "\n",
    "data={\"raj\":[20,\"selva\"],\"mike\":20,\"taj\":[23,\"velsa\"]}\n",
    "count=0\n",
    "for item in data:\n",
    "    if isinstance(data[item],list):\n",
    "        count+=1\n",
    "print(count)\n",
    "    \n",
    "    "
   ]
  },
  {
   "cell_type": "code",
   "execution_count": 4,
   "id": "9b05780a",
   "metadata": {},
   "outputs": [
    {
     "name": "stdout",
     "output_type": "stream",
     "text": [
      "['I', 'love', 'python', 'program', 'and', 'i', 'love', 'c', 'program']\n",
      "['love', 'program']\n"
     ]
    }
   ],
   "source": [
    "string = [\"I love python program and i love c program\"]\n",
    "word=string[0]\n",
    "srt=word.split()\n",
    "print(srt)\n",
    "res=[]\n",
    "for i in srt:\n",
    "    if srt.count(i)>1 and i not in res:\n",
    "        res.append(i)\n",
    "print(res)"
   ]
  },
  {
   "cell_type": "code",
   "execution_count": 11,
   "id": "3432857b",
   "metadata": {},
   "outputs": [
    {
     "name": "stdout",
     "output_type": "stream",
     "text": [
      "10\n"
     ]
    }
   ],
   "source": [
    "lb = 5\n",
    "ub = 10\n",
    "\n",
    "total = 0\n",
    "for i in range(lb, ub+1):\n",
    "    total += i\n",
    "    \n",
    "print(i)\n",
    "# Complexity: o(n)"
   ]
  },
  {
   "cell_type": "code",
   "execution_count": 13,
   "id": "88c70445",
   "metadata": {},
   "outputs": [
    {
     "name": "stdout",
     "output_type": "stream",
     "text": [
      "5\n",
      "6\n",
      "7\n",
      "8\n",
      "9\n",
      "10\n"
     ]
    }
   ],
   "source": [
    "lb = 5\n",
    "ub = 10\n",
    "\n",
    "for i in range(lb, ub+1):\n",
    "    print(i)"
   ]
  },
  {
   "cell_type": "code",
   "execution_count": 18,
   "id": "b7b27e76",
   "metadata": {},
   "outputs": [
    {
     "name": "stdout",
     "output_type": "stream",
     "text": [
      "10\n"
     ]
    }
   ],
   "source": [
    "total=0\n",
    "\n",
    "for i in range(5,11):\n",
    "    total +=i\n",
    "print(i)"
   ]
  },
  {
   "cell_type": "code",
   "execution_count": 22,
   "id": "81945b35",
   "metadata": {},
   "outputs": [
    {
     "name": "stdout",
     "output_type": "stream",
     "text": [
      "ninjas coding to welcome \n"
     ]
    }
   ],
   "source": [
    "string=\"  welcome to   coding   ninjas\"\n",
    "\n",
    "l=string.split()\n",
    "string=\"\"\n",
    "l.reverse()\n",
    "\n",
    "for i in l:\n",
    "    string +=i\n",
    "    string += \" \"\n",
    "    \n",
    "\n",
    "print(string)\n"
   ]
  },
  {
   "cell_type": "code",
   "execution_count": 7,
   "id": "0611b3dc",
   "metadata": {},
   "outputs": [
    {
     "name": "stdout",
     "output_type": "stream",
     "text": [
      "Enter your name: micheal\n",
      "3\n"
     ]
    }
   ],
   "source": [
    "#### write a python program to count  a vowels in  string\n",
    "\n",
    "name=input(\"Enter your name: \")\n",
    "ref_string=[\"a\",\"e\",\"i\",\"o\",\"u\"]\n",
    "count=0\n",
    "for i in name:\n",
    "    if i in ref_string:\n",
    "        count+=1\n",
    "print(count)\n",
    "    "
   ]
  },
  {
   "cell_type": "code",
   "execution_count": null,
   "id": "699d82eb",
   "metadata": {},
   "outputs": [],
   "source": []
  }
 ],
 "metadata": {
  "kernelspec": {
   "display_name": "Python 3 (ipykernel)",
   "language": "python",
   "name": "python3"
  },
  "language_info": {
   "codemirror_mode": {
    "name": "ipython",
    "version": 3
   },
   "file_extension": ".py",
   "mimetype": "text/x-python",
   "name": "python",
   "nbconvert_exporter": "python",
   "pygments_lexer": "ipython3",
   "version": "3.9.12"
  }
 },
 "nbformat": 4,
 "nbformat_minor": 5
}
