{
 "cells": [
  {
   "cell_type": "code",
   "execution_count": 6,
   "id": "3777b461",
   "metadata": {},
   "outputs": [],
   "source": [
    "def add (x,y):\n",
    "    return x+y"
   ]
  },
  {
   "cell_type": "code",
   "execution_count": 7,
   "id": "ab3bcd6f",
   "metadata": {},
   "outputs": [],
   "source": [
    "def subtract(x,y):\n",
    "    return x-y"
   ]
  },
  {
   "cell_type": "code",
   "execution_count": 8,
   "id": "8fdea341",
   "metadata": {},
   "outputs": [],
   "source": [
    "def multiply(x,y):\n",
    "    return x/y"
   ]
  },
  {
   "cell_type": "code",
   "execution_count": 9,
   "id": "cfa39e81",
   "metadata": {},
   "outputs": [],
   "source": [
    "num_1=10\n",
    "num_2=5"
   ]
  },
  {
   "cell_type": "code",
   "execution_count": 10,
   "id": "c0e5380e",
   "metadata": {},
   "outputs": [
    {
     "name": "stdout",
     "output_type": "stream",
     "text": [
      "Add:10 + 5 = 15\n",
      "subtract:10 - 5 = 15\n",
      "mul:10 * 5 = 15\n"
     ]
    }
   ],
   "source": [
    "add_result=add(num_1,num_2)\n",
    "print('Add:{} + {} = {}'.format(num_1,num_2,add_result))\n",
    "\n",
    "sub_result=subtract(num_1,num_2)\n",
    "print('subtract:{} - {} = {}'.format(num_1,num_2,add_result))\n",
    "\n",
    "mul_result=multiply(num_1,num_2)\n",
    "print('mul:{} * {} = {}'.format(num_1,num_2,add_result))"
   ]
  },
  {
   "cell_type": "markdown",
   "id": "88607ab6",
   "metadata": {},
   "source": [
    "Type of logging\n",
    "\n",
    "# debug detailed information,typically of interest only when diagnosing problem\n",
    "\n",
    "# INFO : Confirmation that things are working as expected\n",
    "# WARNING: An indication that something unexpected happened, or indicative of some problem in the near future (e.g. 'disk space low'). The software is still working as expected.\n",
    "\n",
    "# error: Due to a more serious problem, the software has not been able to perform function\n",
    "# CRITICAL: A serious error , indicating that the progrsm itself may be unable to continue running"
   ]
  },
  {
   "cell_type": "code",
   "execution_count": 14,
   "id": "5f980cb5",
   "metadata": {},
   "outputs": [],
   "source": [
    "import logging"
   ]
  },
  {
   "cell_type": "markdown",
   "id": "cd55231e",
   "metadata": {},
   "source": [
    "log record attributes https://docs.python.org/3/library/logging.html#logrecord-attributes"
   ]
  },
  {
   "cell_type": "code",
   "execution_count": 18,
   "id": "5af36162",
   "metadata": {},
   "outputs": [],
   "source": [
    "logging.basicConfig(filename='test.log' , level=logging.DEBUG,format='%(asctime)s:%(levelname)s:%(message)s')"
   ]
  },
  {
   "cell_type": "code",
   "execution_count": 19,
   "id": "4395f3b8",
   "metadata": {},
   "outputs": [],
   "source": [
    "def add (x,y):\n",
    "    return x+y\n",
    "def subtract(x,y):\n",
    "    return x-y\n",
    "def multiply(x,y):\n",
    "    return x/y\n",
    "num_1=10\n",
    "num_2=5\n",
    "add_result=add(num_1,num_2)\n",
    "logging.debug('Add:{} + {} = {}'.format(num_1,num_2,add_result))\n",
    "\n",
    "sub_result=subtract(num_1,num_2)\n",
    "logging.debug('subtract:{} - {} = {}'.format(num_1,num_2,add_result))\n",
    "\n",
    "mul_result=multiply(num_1,num_2)\n",
    "logging.debug('mul:{} * {} = {}'.format(num_1,num_2,add_result))"
   ]
  },
  {
   "cell_type": "code",
   "execution_count": null,
   "id": "7840c739",
   "metadata": {},
   "outputs": [],
   "source": [
    "######"
   ]
  },
  {
   "cell_type": "code",
   "execution_count": 25,
   "id": "fe24e8c4",
   "metadata": {},
   "outputs": [
    {
     "name": "stdout",
     "output_type": "stream",
     "text": [
      "Created Employee: John Smith - John.Smith@email.com\n",
      "Created Employee: Corey Schafer - Corey.Schafer@email.com\n"
     ]
    }
   ],
   "source": [
    "class Employee:\n",
    "##A sample Employee class\"\"\"\n",
    "    def __init__(self, first, last):\n",
    "        self.first = first\n",
    "        self.last = last\n",
    "        print('Created Employee: {} - {}'.format(self.fullname, self.email))\n",
    "    @property\n",
    "    def email(self):\n",
    "        return '{}.{}@email.com'.format(self.first, self.last)\n",
    "    @property\n",
    "    def fullname(self):\n",
    "        return '{} {}'.format(self.first, self.last)\n",
    "emp_1 = Employee('John' , 'Smith')\n",
    "emp_2 = Employee('Corey' , 'Schafer')"
   ]
  },
  {
   "cell_type": "code",
   "execution_count": 27,
   "id": "f2d2de26",
   "metadata": {},
   "outputs": [],
   "source": [
    "logging.basicConfig(filename='employee.log' , level=logging.DEBUG,format='%(asctime)s:%(levelname)s:%(message)s')\n",
    "\n",
    "class Employee:\n",
    "##A sample Employee class\"\"\"\n",
    "    def __init__(self, first, last):\n",
    "        self.first = first\n",
    "        self.last = last\n",
    "        logging.info('Created Employee: {} - {}'.format(self.fullname, self.email))\n",
    "    @property\n",
    "    def email(self):\n",
    "        return '{}.{}@email.com'.format(self.first, self.last)\n",
    "    @property\n",
    "    def fullname(self):\n",
    "        return '{} {}'.format(self.first, self.last)\n",
    "emp_1 = Employee('John' , 'Smith')\n",
    "emp_2 = Employee('Corey' , 'Schafer')\n"
   ]
  },
  {
   "cell_type": "markdown",
   "id": "cca3dbe1",
   "metadata": {},
   "source": [
    "LOGGING advanced - LOggers,Handlers and Formatters"
   ]
  },
  {
   "cell_type": "code",
   "execution_count": 35,
   "id": "4c460434",
   "metadata": {},
   "outputs": [
    {
     "name": "stderr",
     "output_type": "stream",
     "text": [
      "INFO:__main__:Created Employee: John Smith - John.Smith@email.com\n",
      "INFO:__main__:Created Employee: Corey Schafer - Corey.Schafer@email.com\n"
     ]
    }
   ],
   "source": [
    "logger = logging.getLogger(__name__)\n",
    "logger.setLevel(logging.INFO)\n",
    "formatter = logging.Formatter('%(levelname)s:%(name)s:%(message)s')\n",
    "file_handler = logging. FileHandler('employee.log')\n",
    "file_handler.setFormatter(formatter)\n",
    "logger.addHandler(file_handler)\n",
    "class Employee:\n",
    "##\"\"\"A sample Employee class\"\"\"\n",
    "    def __init__(self, first, last):\n",
    "        self.first = first\n",
    "        self.last= last\n",
    "        logger.info('Created Employee: {} - {}'. format(self.fullname, self.email))\n",
    "    @property\n",
    "    def email(self):\n",
    "         return '{}.{}@email.com'.format(self.first, self.last)\n",
    "    @property\n",
    "    def fullname(self):\n",
    "        return '{} {}'.format(self.first, self.last)\n",
    "emp_1 = Employee('John' , 'Smith')\n",
    "emp_2 = Employee('Corey' , 'Schafer')"
   ]
  },
  {
   "cell_type": "code",
   "execution_count": null,
   "id": "ddf41c04",
   "metadata": {},
   "outputs": [],
   "source": []
  }
 ],
 "metadata": {
  "kernelspec": {
   "display_name": "Python 3 (ipykernel)",
   "language": "python",
   "name": "python3"
  },
  "language_info": {
   "codemirror_mode": {
    "name": "ipython",
    "version": 3
   },
   "file_extension": ".py",
   "mimetype": "text/x-python",
   "name": "python",
   "nbconvert_exporter": "python",
   "pygments_lexer": "ipython3",
   "version": "3.9.12"
  }
 },
 "nbformat": 4,
 "nbformat_minor": 5
}
